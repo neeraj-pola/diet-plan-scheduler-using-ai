{
  "nbformat": 4,
  "nbformat_minor": 0,
  "metadata": {
    "colab": {
      "provenance": [],
      "authorship_tag": "ABX9TyOcGCpyxugD+giwO3Svatnf",
      "include_colab_link": true
    },
    "kernelspec": {
      "name": "python3",
      "display_name": "Python 3"
    },
    "language_info": {
      "name": "python"
    }
  },
  "cells": [
    {
      "cell_type": "markdown",
      "metadata": {
        "id": "view-in-github",
        "colab_type": "text"
      },
      "source": [
        "<a href=\"https://colab.research.google.com/github/neeraj-pola/diet-plan-scheduler-using-ai/blob/main/Diet_plan.ipynb\" target=\"_parent\"><img src=\"https://colab.research.google.com/assets/colab-badge.svg\" alt=\"Open In Colab\"/></a>"
      ]
    },
    {
      "cell_type": "code",
      "source": [
        "import pandas as pd\n",
        "import numpy as np\n",
        "!pip install PuLP\n",
        "!pip install gradio"
      ],
      "metadata": {
        "id": "5o9YxucG1zjH",
        "colab": {
          "base_uri": "https://localhost:8080/"
        },
        "outputId": "7ef00f76-94e8-451a-d52b-dc852971eddf"
      },
      "execution_count": null,
      "outputs": [
        {
          "output_type": "stream",
          "name": "stdout",
          "text": [
            "Looking in indexes: https://pypi.org/simple, https://us-python.pkg.dev/colab-wheels/public/simple/\n",
            "Requirement already satisfied: PuLP in /usr/local/lib/python3.9/dist-packages (2.7.0)\n",
            "Looking in indexes: https://pypi.org/simple, https://us-python.pkg.dev/colab-wheels/public/simple/\n",
            "Requirement already satisfied: gradio in /usr/local/lib/python3.9/dist-packages (3.21.0)\n",
            "Requirement already satisfied: typing-extensions in /usr/local/lib/python3.9/dist-packages (from gradio) (4.5.0)\n",
            "Requirement already satisfied: matplotlib in /usr/local/lib/python3.9/dist-packages (from gradio) (3.7.1)\n",
            "Requirement already satisfied: markupsafe in /usr/local/lib/python3.9/dist-packages (from gradio) (2.1.2)\n",
            "Requirement already satisfied: mdit-py-plugins<=0.3.3 in /usr/local/lib/python3.9/dist-packages (from gradio) (0.3.3)\n",
            "Requirement already satisfied: fsspec in /usr/local/lib/python3.9/dist-packages (from gradio) (2023.3.0)\n",
            "Requirement already satisfied: pydantic in /usr/local/lib/python3.9/dist-packages (from gradio) (1.10.6)\n",
            "Requirement already satisfied: orjson in /usr/local/lib/python3.9/dist-packages (from gradio) (3.8.7)\n",
            "Requirement already satisfied: numpy in /usr/local/lib/python3.9/dist-packages (from gradio) (1.22.4)\n",
            "Requirement already satisfied: markdown-it-py[linkify]>=2.0.0 in /usr/local/lib/python3.9/dist-packages (from gradio) (2.2.0)\n",
            "Requirement already satisfied: pandas in /usr/local/lib/python3.9/dist-packages (from gradio) (1.4.4)\n",
            "Requirement already satisfied: pillow in /usr/local/lib/python3.9/dist-packages (from gradio) (8.4.0)\n",
            "Requirement already satisfied: jinja2 in /usr/local/lib/python3.9/dist-packages (from gradio) (3.1.2)\n",
            "Requirement already satisfied: huggingface-hub>=0.13.0 in /usr/local/lib/python3.9/dist-packages (from gradio) (0.13.2)\n",
            "Requirement already satisfied: websockets>=10.0 in /usr/local/lib/python3.9/dist-packages (from gradio) (10.4)\n",
            "Requirement already satisfied: altair>=4.2.0 in /usr/local/lib/python3.9/dist-packages (from gradio) (4.2.2)\n",
            "Requirement already satisfied: pydub in /usr/local/lib/python3.9/dist-packages (from gradio) (0.25.1)\n",
            "Requirement already satisfied: httpx in /usr/local/lib/python3.9/dist-packages (from gradio) (0.23.3)\n",
            "Requirement already satisfied: aiofiles in /usr/local/lib/python3.9/dist-packages (from gradio) (23.1.0)\n",
            "Requirement already satisfied: aiohttp in /usr/local/lib/python3.9/dist-packages (from gradio) (3.8.4)\n",
            "Requirement already satisfied: ffmpy in /usr/local/lib/python3.9/dist-packages (from gradio) (0.3.0)\n",
            "Requirement already satisfied: pyyaml in /usr/local/lib/python3.9/dist-packages (from gradio) (6.0)\n",
            "Requirement already satisfied: requests in /usr/local/lib/python3.9/dist-packages (from gradio) (2.27.1)\n",
            "Requirement already satisfied: python-multipart in /usr/local/lib/python3.9/dist-packages (from gradio) (0.0.6)\n",
            "Requirement already satisfied: uvicorn in /usr/local/lib/python3.9/dist-packages (from gradio) (0.21.1)\n",
            "Requirement already satisfied: fastapi in /usr/local/lib/python3.9/dist-packages (from gradio) (0.94.1)\n",
            "Requirement already satisfied: entrypoints in /usr/local/lib/python3.9/dist-packages (from altair>=4.2.0->gradio) (0.4)\n",
            "Requirement already satisfied: jsonschema>=3.0 in /usr/local/lib/python3.9/dist-packages (from altair>=4.2.0->gradio) (4.3.3)\n",
            "Requirement already satisfied: toolz in /usr/local/lib/python3.9/dist-packages (from altair>=4.2.0->gradio) (0.12.0)\n",
            "Requirement already satisfied: tqdm>=4.42.1 in /usr/local/lib/python3.9/dist-packages (from huggingface-hub>=0.13.0->gradio) (4.65.0)\n",
            "Requirement already satisfied: packaging>=20.9 in /usr/local/lib/python3.9/dist-packages (from huggingface-hub>=0.13.0->gradio) (23.0)\n",
            "Requirement already satisfied: filelock in /usr/local/lib/python3.9/dist-packages (from huggingface-hub>=0.13.0->gradio) (3.10.0)\n",
            "Requirement already satisfied: mdurl~=0.1 in /usr/local/lib/python3.9/dist-packages (from markdown-it-py[linkify]>=2.0.0->gradio) (0.1.2)\n",
            "Requirement already satisfied: linkify-it-py<3,>=1 in /usr/local/lib/python3.9/dist-packages (from markdown-it-py[linkify]>=2.0.0->gradio) (2.0.0)\n",
            "Requirement already satisfied: python-dateutil>=2.8.1 in /usr/local/lib/python3.9/dist-packages (from pandas->gradio) (2.8.2)\n",
            "Requirement already satisfied: pytz>=2020.1 in /usr/local/lib/python3.9/dist-packages (from pandas->gradio) (2022.7.1)\n",
            "Requirement already satisfied: aiosignal>=1.1.2 in /usr/local/lib/python3.9/dist-packages (from aiohttp->gradio) (1.3.1)\n",
            "Requirement already satisfied: charset-normalizer<4.0,>=2.0 in /usr/local/lib/python3.9/dist-packages (from aiohttp->gradio) (2.0.12)\n",
            "Requirement already satisfied: attrs>=17.3.0 in /usr/local/lib/python3.9/dist-packages (from aiohttp->gradio) (22.2.0)\n",
            "Requirement already satisfied: async-timeout<5.0,>=4.0.0a3 in /usr/local/lib/python3.9/dist-packages (from aiohttp->gradio) (4.0.2)\n",
            "Requirement already satisfied: frozenlist>=1.1.1 in /usr/local/lib/python3.9/dist-packages (from aiohttp->gradio) (1.3.3)\n",
            "Requirement already satisfied: multidict<7.0,>=4.5 in /usr/local/lib/python3.9/dist-packages (from aiohttp->gradio) (6.0.4)\n",
            "Requirement already satisfied: yarl<2.0,>=1.0 in /usr/local/lib/python3.9/dist-packages (from aiohttp->gradio) (1.8.2)\n",
            "Requirement already satisfied: starlette<0.27.0,>=0.26.1 in /usr/local/lib/python3.9/dist-packages (from fastapi->gradio) (0.26.1)\n",
            "Requirement already satisfied: certifi in /usr/local/lib/python3.9/dist-packages (from httpx->gradio) (2022.12.7)\n",
            "Requirement already satisfied: rfc3986[idna2008]<2,>=1.3 in /usr/local/lib/python3.9/dist-packages (from httpx->gradio) (1.5.0)\n",
            "Requirement already satisfied: httpcore<0.17.0,>=0.15.0 in /usr/local/lib/python3.9/dist-packages (from httpx->gradio) (0.16.3)\n",
            "Requirement already satisfied: sniffio in /usr/local/lib/python3.9/dist-packages (from httpx->gradio) (1.3.0)\n",
            "Requirement already satisfied: pyparsing>=2.3.1 in /usr/local/lib/python3.9/dist-packages (from matplotlib->gradio) (3.0.9)\n",
            "Requirement already satisfied: importlib-resources>=3.2.0 in /usr/local/lib/python3.9/dist-packages (from matplotlib->gradio) (5.12.0)\n",
            "Requirement already satisfied: cycler>=0.10 in /usr/local/lib/python3.9/dist-packages (from matplotlib->gradio) (0.11.0)\n",
            "Requirement already satisfied: kiwisolver>=1.0.1 in /usr/local/lib/python3.9/dist-packages (from matplotlib->gradio) (1.4.4)\n",
            "Requirement already satisfied: fonttools>=4.22.0 in /usr/local/lib/python3.9/dist-packages (from matplotlib->gradio) (4.39.0)\n",
            "Requirement already satisfied: contourpy>=1.0.1 in /usr/local/lib/python3.9/dist-packages (from matplotlib->gradio) (1.0.7)\n",
            "Requirement already satisfied: idna<4,>=2.5 in /usr/local/lib/python3.9/dist-packages (from requests->gradio) (3.4)\n",
            "Requirement already satisfied: urllib3<1.27,>=1.21.1 in /usr/local/lib/python3.9/dist-packages (from requests->gradio) (1.26.15)\n",
            "Requirement already satisfied: click>=7.0 in /usr/local/lib/python3.9/dist-packages (from uvicorn->gradio) (8.1.3)\n",
            "Requirement already satisfied: h11>=0.8 in /usr/local/lib/python3.9/dist-packages (from uvicorn->gradio) (0.14.0)\n",
            "Requirement already satisfied: anyio<5.0,>=3.0 in /usr/local/lib/python3.9/dist-packages (from httpcore<0.17.0,>=0.15.0->httpx->gradio) (3.6.2)\n",
            "Requirement already satisfied: zipp>=3.1.0 in /usr/local/lib/python3.9/dist-packages (from importlib-resources>=3.2.0->matplotlib->gradio) (3.15.0)\n",
            "Requirement already satisfied: pyrsistent!=0.17.0,!=0.17.1,!=0.17.2,>=0.14.0 in /usr/local/lib/python3.9/dist-packages (from jsonschema>=3.0->altair>=4.2.0->gradio) (0.19.3)\n",
            "Requirement already satisfied: uc-micro-py in /usr/local/lib/python3.9/dist-packages (from linkify-it-py<3,>=1->markdown-it-py[linkify]>=2.0.0->gradio) (1.0.1)\n",
            "Requirement already satisfied: six>=1.5 in /usr/local/lib/python3.9/dist-packages (from python-dateutil>=2.8.1->pandas->gradio) (1.15.0)\n"
          ]
        }
      ]
    },
    {
      "cell_type": "code",
      "source": [
        "from pulp import *"
      ],
      "metadata": {
        "id": "c1Ek7PYA_d_M"
      },
      "execution_count": null,
      "outputs": []
    },
    {
      "cell_type": "code",
      "source": [
        "df = pd.read_csv(\"nutrition.csv\")"
      ],
      "metadata": {
        "id": "htIorcni13tM"
      },
      "execution_count": null,
      "outputs": []
    },
    {
      "cell_type": "code",
      "source": [
        "df.head()"
      ],
      "metadata": {
        "colab": {
          "base_uri": "https://localhost:8080/",
          "height": 403
        },
        "id": "ye0QLftM16tc",
        "outputId": "c72ea6e4-18b1-480a-c08a-9fd0e4f23f50"
      },
      "execution_count": null,
      "outputs": [
        {
          "output_type": "execute_result",
          "data": {
            "text/plain": [
              "   Unnamed: 0             name serving_size  calories total_fat saturated_fat  \\\n",
              "0           0       Cornstarch        100 g       381      0.1g           NaN   \n",
              "1           1     Nuts, pecans        100 g       691       72g          6.2g   \n",
              "2           2    Eggplant, raw        100 g        25      0.2g           NaN   \n",
              "3           3   Teff, uncooked        100 g       367      2.4g          0.4g   \n",
              "4           4  Sherbet, orange        100 g       144        2g          1.2g   \n",
              "\n",
              "  cholesterol    sodium  choline     folate  ...      fat  \\\n",
              "0           0   9.00 mg   0.4 mg   0.00 mcg  ...   0.05 g   \n",
              "1           0   0.00 mg  40.5 mg  22.00 mcg  ...  71.97 g   \n",
              "2           0   2.00 mg   6.9 mg  22.00 mcg  ...   0.18 g   \n",
              "3           0  12.00 mg  13.1 mg          0  ...   2.38 g   \n",
              "4         1mg  46.00 mg   7.7 mg   4.00 mcg  ...   2.00 g   \n",
              "\n",
              "  saturated_fatty_acids monounsaturated_fatty_acids  \\\n",
              "0               0.009 g                     0.016 g   \n",
              "1               6.180 g                    40.801 g   \n",
              "2               0.034 g                     0.016 g   \n",
              "3               0.449 g                     0.589 g   \n",
              "4               1.160 g                     0.530 g   \n",
              "\n",
              "  polyunsaturated_fatty_acids fatty_acids_total_trans alcohol     ash  \\\n",
              "0                     0.025 g                 0.00 mg   0.0 g  0.09 g   \n",
              "1                    21.614 g                 0.00 mg   0.0 g  1.49 g   \n",
              "2                     0.076 g                 0.00 mg   0.0 g  0.66 g   \n",
              "3                     1.071 g                       0       0  2.37 g   \n",
              "4                     0.080 g                 1.00 mg   0.0 g  0.40 g   \n",
              "\n",
              "  caffeine theobromine    water  \n",
              "0  0.00 mg     0.00 mg   8.32 g  \n",
              "1  0.00 mg     0.00 mg   3.52 g  \n",
              "2  0.00 mg     0.00 mg  92.30 g  \n",
              "3        0           0   8.82 g  \n",
              "4  0.00 mg     0.00 mg  66.10 g  \n",
              "\n",
              "[5 rows x 77 columns]"
            ],
            "text/html": [
              "\n",
              "  <div id=\"df-7191ca93-d0b6-4866-8528-3e3c0763ca69\">\n",
              "    <div class=\"colab-df-container\">\n",
              "      <div>\n",
              "<style scoped>\n",
              "    .dataframe tbody tr th:only-of-type {\n",
              "        vertical-align: middle;\n",
              "    }\n",
              "\n",
              "    .dataframe tbody tr th {\n",
              "        vertical-align: top;\n",
              "    }\n",
              "\n",
              "    .dataframe thead th {\n",
              "        text-align: right;\n",
              "    }\n",
              "</style>\n",
              "<table border=\"1\" class=\"dataframe\">\n",
              "  <thead>\n",
              "    <tr style=\"text-align: right;\">\n",
              "      <th></th>\n",
              "      <th>Unnamed: 0</th>\n",
              "      <th>name</th>\n",
              "      <th>serving_size</th>\n",
              "      <th>calories</th>\n",
              "      <th>total_fat</th>\n",
              "      <th>saturated_fat</th>\n",
              "      <th>cholesterol</th>\n",
              "      <th>sodium</th>\n",
              "      <th>choline</th>\n",
              "      <th>folate</th>\n",
              "      <th>...</th>\n",
              "      <th>fat</th>\n",
              "      <th>saturated_fatty_acids</th>\n",
              "      <th>monounsaturated_fatty_acids</th>\n",
              "      <th>polyunsaturated_fatty_acids</th>\n",
              "      <th>fatty_acids_total_trans</th>\n",
              "      <th>alcohol</th>\n",
              "      <th>ash</th>\n",
              "      <th>caffeine</th>\n",
              "      <th>theobromine</th>\n",
              "      <th>water</th>\n",
              "    </tr>\n",
              "  </thead>\n",
              "  <tbody>\n",
              "    <tr>\n",
              "      <th>0</th>\n",
              "      <td>0</td>\n",
              "      <td>Cornstarch</td>\n",
              "      <td>100 g</td>\n",
              "      <td>381</td>\n",
              "      <td>0.1g</td>\n",
              "      <td>NaN</td>\n",
              "      <td>0</td>\n",
              "      <td>9.00 mg</td>\n",
              "      <td>0.4 mg</td>\n",
              "      <td>0.00 mcg</td>\n",
              "      <td>...</td>\n",
              "      <td>0.05 g</td>\n",
              "      <td>0.009 g</td>\n",
              "      <td>0.016 g</td>\n",
              "      <td>0.025 g</td>\n",
              "      <td>0.00 mg</td>\n",
              "      <td>0.0 g</td>\n",
              "      <td>0.09 g</td>\n",
              "      <td>0.00 mg</td>\n",
              "      <td>0.00 mg</td>\n",
              "      <td>8.32 g</td>\n",
              "    </tr>\n",
              "    <tr>\n",
              "      <th>1</th>\n",
              "      <td>1</td>\n",
              "      <td>Nuts, pecans</td>\n",
              "      <td>100 g</td>\n",
              "      <td>691</td>\n",
              "      <td>72g</td>\n",
              "      <td>6.2g</td>\n",
              "      <td>0</td>\n",
              "      <td>0.00 mg</td>\n",
              "      <td>40.5 mg</td>\n",
              "      <td>22.00 mcg</td>\n",
              "      <td>...</td>\n",
              "      <td>71.97 g</td>\n",
              "      <td>6.180 g</td>\n",
              "      <td>40.801 g</td>\n",
              "      <td>21.614 g</td>\n",
              "      <td>0.00 mg</td>\n",
              "      <td>0.0 g</td>\n",
              "      <td>1.49 g</td>\n",
              "      <td>0.00 mg</td>\n",
              "      <td>0.00 mg</td>\n",
              "      <td>3.52 g</td>\n",
              "    </tr>\n",
              "    <tr>\n",
              "      <th>2</th>\n",
              "      <td>2</td>\n",
              "      <td>Eggplant, raw</td>\n",
              "      <td>100 g</td>\n",
              "      <td>25</td>\n",
              "      <td>0.2g</td>\n",
              "      <td>NaN</td>\n",
              "      <td>0</td>\n",
              "      <td>2.00 mg</td>\n",
              "      <td>6.9 mg</td>\n",
              "      <td>22.00 mcg</td>\n",
              "      <td>...</td>\n",
              "      <td>0.18 g</td>\n",
              "      <td>0.034 g</td>\n",
              "      <td>0.016 g</td>\n",
              "      <td>0.076 g</td>\n",
              "      <td>0.00 mg</td>\n",
              "      <td>0.0 g</td>\n",
              "      <td>0.66 g</td>\n",
              "      <td>0.00 mg</td>\n",
              "      <td>0.00 mg</td>\n",
              "      <td>92.30 g</td>\n",
              "    </tr>\n",
              "    <tr>\n",
              "      <th>3</th>\n",
              "      <td>3</td>\n",
              "      <td>Teff, uncooked</td>\n",
              "      <td>100 g</td>\n",
              "      <td>367</td>\n",
              "      <td>2.4g</td>\n",
              "      <td>0.4g</td>\n",
              "      <td>0</td>\n",
              "      <td>12.00 mg</td>\n",
              "      <td>13.1 mg</td>\n",
              "      <td>0</td>\n",
              "      <td>...</td>\n",
              "      <td>2.38 g</td>\n",
              "      <td>0.449 g</td>\n",
              "      <td>0.589 g</td>\n",
              "      <td>1.071 g</td>\n",
              "      <td>0</td>\n",
              "      <td>0</td>\n",
              "      <td>2.37 g</td>\n",
              "      <td>0</td>\n",
              "      <td>0</td>\n",
              "      <td>8.82 g</td>\n",
              "    </tr>\n",
              "    <tr>\n",
              "      <th>4</th>\n",
              "      <td>4</td>\n",
              "      <td>Sherbet, orange</td>\n",
              "      <td>100 g</td>\n",
              "      <td>144</td>\n",
              "      <td>2g</td>\n",
              "      <td>1.2g</td>\n",
              "      <td>1mg</td>\n",
              "      <td>46.00 mg</td>\n",
              "      <td>7.7 mg</td>\n",
              "      <td>4.00 mcg</td>\n",
              "      <td>...</td>\n",
              "      <td>2.00 g</td>\n",
              "      <td>1.160 g</td>\n",
              "      <td>0.530 g</td>\n",
              "      <td>0.080 g</td>\n",
              "      <td>1.00 mg</td>\n",
              "      <td>0.0 g</td>\n",
              "      <td>0.40 g</td>\n",
              "      <td>0.00 mg</td>\n",
              "      <td>0.00 mg</td>\n",
              "      <td>66.10 g</td>\n",
              "    </tr>\n",
              "  </tbody>\n",
              "</table>\n",
              "<p>5 rows × 77 columns</p>\n",
              "</div>\n",
              "      <button class=\"colab-df-convert\" onclick=\"convertToInteractive('df-7191ca93-d0b6-4866-8528-3e3c0763ca69')\"\n",
              "              title=\"Convert this dataframe to an interactive table.\"\n",
              "              style=\"display:none;\">\n",
              "        \n",
              "  <svg xmlns=\"http://www.w3.org/2000/svg\" height=\"24px\"viewBox=\"0 0 24 24\"\n",
              "       width=\"24px\">\n",
              "    <path d=\"M0 0h24v24H0V0z\" fill=\"none\"/>\n",
              "    <path d=\"M18.56 5.44l.94 2.06.94-2.06 2.06-.94-2.06-.94-.94-2.06-.94 2.06-2.06.94zm-11 1L8.5 8.5l.94-2.06 2.06-.94-2.06-.94L8.5 2.5l-.94 2.06-2.06.94zm10 10l.94 2.06.94-2.06 2.06-.94-2.06-.94-.94-2.06-.94 2.06-2.06.94z\"/><path d=\"M17.41 7.96l-1.37-1.37c-.4-.4-.92-.59-1.43-.59-.52 0-1.04.2-1.43.59L10.3 9.45l-7.72 7.72c-.78.78-.78 2.05 0 2.83L4 21.41c.39.39.9.59 1.41.59.51 0 1.02-.2 1.41-.59l7.78-7.78 2.81-2.81c.8-.78.8-2.07 0-2.86zM5.41 20L4 18.59l7.72-7.72 1.47 1.35L5.41 20z\"/>\n",
              "  </svg>\n",
              "      </button>\n",
              "      \n",
              "  <style>\n",
              "    .colab-df-container {\n",
              "      display:flex;\n",
              "      flex-wrap:wrap;\n",
              "      gap: 12px;\n",
              "    }\n",
              "\n",
              "    .colab-df-convert {\n",
              "      background-color: #E8F0FE;\n",
              "      border: none;\n",
              "      border-radius: 50%;\n",
              "      cursor: pointer;\n",
              "      display: none;\n",
              "      fill: #1967D2;\n",
              "      height: 32px;\n",
              "      padding: 0 0 0 0;\n",
              "      width: 32px;\n",
              "    }\n",
              "\n",
              "    .colab-df-convert:hover {\n",
              "      background-color: #E2EBFA;\n",
              "      box-shadow: 0px 1px 2px rgba(60, 64, 67, 0.3), 0px 1px 3px 1px rgba(60, 64, 67, 0.15);\n",
              "      fill: #174EA6;\n",
              "    }\n",
              "\n",
              "    [theme=dark] .colab-df-convert {\n",
              "      background-color: #3B4455;\n",
              "      fill: #D2E3FC;\n",
              "    }\n",
              "\n",
              "    [theme=dark] .colab-df-convert:hover {\n",
              "      background-color: #434B5C;\n",
              "      box-shadow: 0px 1px 3px 1px rgba(0, 0, 0, 0.15);\n",
              "      filter: drop-shadow(0px 1px 2px rgba(0, 0, 0, 0.3));\n",
              "      fill: #FFFFFF;\n",
              "    }\n",
              "  </style>\n",
              "\n",
              "      <script>\n",
              "        const buttonEl =\n",
              "          document.querySelector('#df-7191ca93-d0b6-4866-8528-3e3c0763ca69 button.colab-df-convert');\n",
              "        buttonEl.style.display =\n",
              "          google.colab.kernel.accessAllowed ? 'block' : 'none';\n",
              "\n",
              "        async function convertToInteractive(key) {\n",
              "          const element = document.querySelector('#df-7191ca93-d0b6-4866-8528-3e3c0763ca69');\n",
              "          const dataTable =\n",
              "            await google.colab.kernel.invokeFunction('convertToInteractive',\n",
              "                                                     [key], {});\n",
              "          if (!dataTable) return;\n",
              "\n",
              "          const docLinkHtml = 'Like what you see? Visit the ' +\n",
              "            '<a target=\"_blank\" href=https://colab.research.google.com/notebooks/data_table.ipynb>data table notebook</a>'\n",
              "            + ' to learn more about interactive tables.';\n",
              "          element.innerHTML = '';\n",
              "          dataTable['output_type'] = 'display_data';\n",
              "          await google.colab.output.renderOutput(dataTable, element);\n",
              "          const docLink = document.createElement('div');\n",
              "          docLink.innerHTML = docLinkHtml;\n",
              "          element.appendChild(docLink);\n",
              "        }\n",
              "      </script>\n",
              "    </div>\n",
              "  </div>\n",
              "  "
            ]
          },
          "metadata": {},
          "execution_count": 5
        }
      ]
    },
    {
      "cell_type": "code",
      "source": [
        "df.info()"
      ],
      "metadata": {
        "colab": {
          "base_uri": "https://localhost:8080/"
        },
        "id": "Nh2sjg5j17dQ",
        "outputId": "1101cdc9-e3ae-4569-b41c-f61deb28960f"
      },
      "execution_count": null,
      "outputs": [
        {
          "output_type": "stream",
          "name": "stdout",
          "text": [
            "<class 'pandas.core.frame.DataFrame'>\n",
            "RangeIndex: 8789 entries, 0 to 8788\n",
            "Data columns (total 77 columns):\n",
            " #   Column                       Non-Null Count  Dtype \n",
            "---  ------                       --------------  ----- \n",
            " 0   Unnamed: 0                   8789 non-null   int64 \n",
            " 1   name                         8789 non-null   object\n",
            " 2   serving_size                 8789 non-null   object\n",
            " 3   calories                     8789 non-null   int64 \n",
            " 4   total_fat                    8789 non-null   object\n",
            " 5   saturated_fat                7199 non-null   object\n",
            " 6   cholesterol                  8789 non-null   object\n",
            " 7   sodium                       8789 non-null   object\n",
            " 8   choline                      8789 non-null   object\n",
            " 9   folate                       8789 non-null   object\n",
            " 10  folic_acid                   8789 non-null   object\n",
            " 11  niacin                       8789 non-null   object\n",
            " 12  pantothenic_acid             8789 non-null   object\n",
            " 13  riboflavin                   8789 non-null   object\n",
            " 14  thiamin                      8789 non-null   object\n",
            " 15  vitamin_a                    8789 non-null   object\n",
            " 16  vitamin_a_rae                8789 non-null   object\n",
            " 17  carotene_alpha               8789 non-null   object\n",
            " 18  carotene_beta                8789 non-null   object\n",
            " 19  cryptoxanthin_beta           8789 non-null   object\n",
            " 20  lutein_zeaxanthin            8789 non-null   object\n",
            " 21  lucopene                     8789 non-null   int64 \n",
            " 22  vitamin_b12                  8789 non-null   object\n",
            " 23  vitamin_b6                   8789 non-null   object\n",
            " 24  vitamin_c                    8789 non-null   object\n",
            " 25  vitamin_d                    8789 non-null   object\n",
            " 26  vitamin_e                    8789 non-null   object\n",
            " 27  tocopherol_alpha             8789 non-null   object\n",
            " 28  vitamin_k                    8789 non-null   object\n",
            " 29  calcium                      8789 non-null   object\n",
            " 30  copper                       8789 non-null   object\n",
            " 31  irom                         8789 non-null   object\n",
            " 32  magnesium                    8789 non-null   object\n",
            " 33  manganese                    8789 non-null   object\n",
            " 34  phosphorous                  8789 non-null   object\n",
            " 35  potassium                    8789 non-null   object\n",
            " 36  selenium                     8789 non-null   object\n",
            " 37  zink                         8789 non-null   object\n",
            " 38  protein                      8789 non-null   object\n",
            " 39  alanine                      8789 non-null   object\n",
            " 40  arginine                     8789 non-null   object\n",
            " 41  aspartic_acid                8789 non-null   object\n",
            " 42  cystine                      8789 non-null   object\n",
            " 43  glutamic_acid                8789 non-null   object\n",
            " 44  glycine                      8789 non-null   object\n",
            " 45  histidine                    8789 non-null   object\n",
            " 46  hydroxyproline               8789 non-null   object\n",
            " 47  isoleucine                   8789 non-null   object\n",
            " 48  leucine                      8789 non-null   object\n",
            " 49  lysine                       8789 non-null   object\n",
            " 50  methionine                   8789 non-null   object\n",
            " 51  phenylalanine                8789 non-null   object\n",
            " 52  proline                      8789 non-null   object\n",
            " 53  serine                       8789 non-null   object\n",
            " 54  threonine                    8789 non-null   object\n",
            " 55  tryptophan                   8789 non-null   object\n",
            " 56  tyrosine                     8789 non-null   object\n",
            " 57  valine                       8789 non-null   object\n",
            " 58  carbohydrate                 8789 non-null   object\n",
            " 59  fiber                        8789 non-null   object\n",
            " 60  sugars                       8789 non-null   object\n",
            " 61  fructose                     8789 non-null   object\n",
            " 62  galactose                    8789 non-null   object\n",
            " 63  glucose                      8789 non-null   object\n",
            " 64  lactose                      8789 non-null   object\n",
            " 65  maltose                      8789 non-null   object\n",
            " 66  sucrose                      8789 non-null   object\n",
            " 67  fat                          8789 non-null   object\n",
            " 68  saturated_fatty_acids        8789 non-null   object\n",
            " 69  monounsaturated_fatty_acids  8789 non-null   object\n",
            " 70  polyunsaturated_fatty_acids  8789 non-null   object\n",
            " 71  fatty_acids_total_trans      8789 non-null   object\n",
            " 72  alcohol                      8789 non-null   object\n",
            " 73  ash                          8789 non-null   object\n",
            " 74  caffeine                     8789 non-null   object\n",
            " 75  theobromine                  8789 non-null   object\n",
            " 76  water                        8789 non-null   object\n",
            "dtypes: int64(3), object(74)\n",
            "memory usage: 5.2+ MB\n"
          ]
        }
      ]
    },
    {
      "cell_type": "code",
      "source": [
        "df.drop(\"Unnamed: 0\", axis=1,inplace=True)"
      ],
      "metadata": {
        "id": "h7eLxQi818Mh"
      },
      "execution_count": null,
      "outputs": []
    },
    {
      "cell_type": "code",
      "source": [
        "df.head()"
      ],
      "metadata": {
        "colab": {
          "base_uri": "https://localhost:8080/",
          "height": 386
        },
        "id": "kEDGOrUc2Ick",
        "outputId": "5f05e1d8-7c6b-4e9c-89d7-daf8da67f883"
      },
      "execution_count": null,
      "outputs": [
        {
          "output_type": "execute_result",
          "data": {
            "text/plain": [
              "              name serving_size  calories total_fat saturated_fat cholesterol  \\\n",
              "0       Cornstarch        100 g       381      0.1g           NaN           0   \n",
              "1     Nuts, pecans        100 g       691       72g          6.2g           0   \n",
              "2    Eggplant, raw        100 g        25      0.2g           NaN           0   \n",
              "3   Teff, uncooked        100 g       367      2.4g          0.4g           0   \n",
              "4  Sherbet, orange        100 g       144        2g          1.2g         1mg   \n",
              "\n",
              "     sodium  choline     folate folic_acid  ...      fat  \\\n",
              "0   9.00 mg   0.4 mg   0.00 mcg   0.00 mcg  ...   0.05 g   \n",
              "1   0.00 mg  40.5 mg  22.00 mcg   0.00 mcg  ...  71.97 g   \n",
              "2   2.00 mg   6.9 mg  22.00 mcg   0.00 mcg  ...   0.18 g   \n",
              "3  12.00 mg  13.1 mg          0          0  ...   2.38 g   \n",
              "4  46.00 mg   7.7 mg   4.00 mcg   0.00 mcg  ...   2.00 g   \n",
              "\n",
              "  saturated_fatty_acids monounsaturated_fatty_acids  \\\n",
              "0               0.009 g                     0.016 g   \n",
              "1               6.180 g                    40.801 g   \n",
              "2               0.034 g                     0.016 g   \n",
              "3               0.449 g                     0.589 g   \n",
              "4               1.160 g                     0.530 g   \n",
              "\n",
              "  polyunsaturated_fatty_acids fatty_acids_total_trans alcohol     ash  \\\n",
              "0                     0.025 g                 0.00 mg   0.0 g  0.09 g   \n",
              "1                    21.614 g                 0.00 mg   0.0 g  1.49 g   \n",
              "2                     0.076 g                 0.00 mg   0.0 g  0.66 g   \n",
              "3                     1.071 g                       0       0  2.37 g   \n",
              "4                     0.080 g                 1.00 mg   0.0 g  0.40 g   \n",
              "\n",
              "  caffeine theobromine    water  \n",
              "0  0.00 mg     0.00 mg   8.32 g  \n",
              "1  0.00 mg     0.00 mg   3.52 g  \n",
              "2  0.00 mg     0.00 mg  92.30 g  \n",
              "3        0           0   8.82 g  \n",
              "4  0.00 mg     0.00 mg  66.10 g  \n",
              "\n",
              "[5 rows x 76 columns]"
            ],
            "text/html": [
              "\n",
              "  <div id=\"df-82c7781f-98e9-4f1b-a729-5c84b25e32a5\">\n",
              "    <div class=\"colab-df-container\">\n",
              "      <div>\n",
              "<style scoped>\n",
              "    .dataframe tbody tr th:only-of-type {\n",
              "        vertical-align: middle;\n",
              "    }\n",
              "\n",
              "    .dataframe tbody tr th {\n",
              "        vertical-align: top;\n",
              "    }\n",
              "\n",
              "    .dataframe thead th {\n",
              "        text-align: right;\n",
              "    }\n",
              "</style>\n",
              "<table border=\"1\" class=\"dataframe\">\n",
              "  <thead>\n",
              "    <tr style=\"text-align: right;\">\n",
              "      <th></th>\n",
              "      <th>name</th>\n",
              "      <th>serving_size</th>\n",
              "      <th>calories</th>\n",
              "      <th>total_fat</th>\n",
              "      <th>saturated_fat</th>\n",
              "      <th>cholesterol</th>\n",
              "      <th>sodium</th>\n",
              "      <th>choline</th>\n",
              "      <th>folate</th>\n",
              "      <th>folic_acid</th>\n",
              "      <th>...</th>\n",
              "      <th>fat</th>\n",
              "      <th>saturated_fatty_acids</th>\n",
              "      <th>monounsaturated_fatty_acids</th>\n",
              "      <th>polyunsaturated_fatty_acids</th>\n",
              "      <th>fatty_acids_total_trans</th>\n",
              "      <th>alcohol</th>\n",
              "      <th>ash</th>\n",
              "      <th>caffeine</th>\n",
              "      <th>theobromine</th>\n",
              "      <th>water</th>\n",
              "    </tr>\n",
              "  </thead>\n",
              "  <tbody>\n",
              "    <tr>\n",
              "      <th>0</th>\n",
              "      <td>Cornstarch</td>\n",
              "      <td>100 g</td>\n",
              "      <td>381</td>\n",
              "      <td>0.1g</td>\n",
              "      <td>NaN</td>\n",
              "      <td>0</td>\n",
              "      <td>9.00 mg</td>\n",
              "      <td>0.4 mg</td>\n",
              "      <td>0.00 mcg</td>\n",
              "      <td>0.00 mcg</td>\n",
              "      <td>...</td>\n",
              "      <td>0.05 g</td>\n",
              "      <td>0.009 g</td>\n",
              "      <td>0.016 g</td>\n",
              "      <td>0.025 g</td>\n",
              "      <td>0.00 mg</td>\n",
              "      <td>0.0 g</td>\n",
              "      <td>0.09 g</td>\n",
              "      <td>0.00 mg</td>\n",
              "      <td>0.00 mg</td>\n",
              "      <td>8.32 g</td>\n",
              "    </tr>\n",
              "    <tr>\n",
              "      <th>1</th>\n",
              "      <td>Nuts, pecans</td>\n",
              "      <td>100 g</td>\n",
              "      <td>691</td>\n",
              "      <td>72g</td>\n",
              "      <td>6.2g</td>\n",
              "      <td>0</td>\n",
              "      <td>0.00 mg</td>\n",
              "      <td>40.5 mg</td>\n",
              "      <td>22.00 mcg</td>\n",
              "      <td>0.00 mcg</td>\n",
              "      <td>...</td>\n",
              "      <td>71.97 g</td>\n",
              "      <td>6.180 g</td>\n",
              "      <td>40.801 g</td>\n",
              "      <td>21.614 g</td>\n",
              "      <td>0.00 mg</td>\n",
              "      <td>0.0 g</td>\n",
              "      <td>1.49 g</td>\n",
              "      <td>0.00 mg</td>\n",
              "      <td>0.00 mg</td>\n",
              "      <td>3.52 g</td>\n",
              "    </tr>\n",
              "    <tr>\n",
              "      <th>2</th>\n",
              "      <td>Eggplant, raw</td>\n",
              "      <td>100 g</td>\n",
              "      <td>25</td>\n",
              "      <td>0.2g</td>\n",
              "      <td>NaN</td>\n",
              "      <td>0</td>\n",
              "      <td>2.00 mg</td>\n",
              "      <td>6.9 mg</td>\n",
              "      <td>22.00 mcg</td>\n",
              "      <td>0.00 mcg</td>\n",
              "      <td>...</td>\n",
              "      <td>0.18 g</td>\n",
              "      <td>0.034 g</td>\n",
              "      <td>0.016 g</td>\n",
              "      <td>0.076 g</td>\n",
              "      <td>0.00 mg</td>\n",
              "      <td>0.0 g</td>\n",
              "      <td>0.66 g</td>\n",
              "      <td>0.00 mg</td>\n",
              "      <td>0.00 mg</td>\n",
              "      <td>92.30 g</td>\n",
              "    </tr>\n",
              "    <tr>\n",
              "      <th>3</th>\n",
              "      <td>Teff, uncooked</td>\n",
              "      <td>100 g</td>\n",
              "      <td>367</td>\n",
              "      <td>2.4g</td>\n",
              "      <td>0.4g</td>\n",
              "      <td>0</td>\n",
              "      <td>12.00 mg</td>\n",
              "      <td>13.1 mg</td>\n",
              "      <td>0</td>\n",
              "      <td>0</td>\n",
              "      <td>...</td>\n",
              "      <td>2.38 g</td>\n",
              "      <td>0.449 g</td>\n",
              "      <td>0.589 g</td>\n",
              "      <td>1.071 g</td>\n",
              "      <td>0</td>\n",
              "      <td>0</td>\n",
              "      <td>2.37 g</td>\n",
              "      <td>0</td>\n",
              "      <td>0</td>\n",
              "      <td>8.82 g</td>\n",
              "    </tr>\n",
              "    <tr>\n",
              "      <th>4</th>\n",
              "      <td>Sherbet, orange</td>\n",
              "      <td>100 g</td>\n",
              "      <td>144</td>\n",
              "      <td>2g</td>\n",
              "      <td>1.2g</td>\n",
              "      <td>1mg</td>\n",
              "      <td>46.00 mg</td>\n",
              "      <td>7.7 mg</td>\n",
              "      <td>4.00 mcg</td>\n",
              "      <td>0.00 mcg</td>\n",
              "      <td>...</td>\n",
              "      <td>2.00 g</td>\n",
              "      <td>1.160 g</td>\n",
              "      <td>0.530 g</td>\n",
              "      <td>0.080 g</td>\n",
              "      <td>1.00 mg</td>\n",
              "      <td>0.0 g</td>\n",
              "      <td>0.40 g</td>\n",
              "      <td>0.00 mg</td>\n",
              "      <td>0.00 mg</td>\n",
              "      <td>66.10 g</td>\n",
              "    </tr>\n",
              "  </tbody>\n",
              "</table>\n",
              "<p>5 rows × 76 columns</p>\n",
              "</div>\n",
              "      <button class=\"colab-df-convert\" onclick=\"convertToInteractive('df-82c7781f-98e9-4f1b-a729-5c84b25e32a5')\"\n",
              "              title=\"Convert this dataframe to an interactive table.\"\n",
              "              style=\"display:none;\">\n",
              "        \n",
              "  <svg xmlns=\"http://www.w3.org/2000/svg\" height=\"24px\"viewBox=\"0 0 24 24\"\n",
              "       width=\"24px\">\n",
              "    <path d=\"M0 0h24v24H0V0z\" fill=\"none\"/>\n",
              "    <path d=\"M18.56 5.44l.94 2.06.94-2.06 2.06-.94-2.06-.94-.94-2.06-.94 2.06-2.06.94zm-11 1L8.5 8.5l.94-2.06 2.06-.94-2.06-.94L8.5 2.5l-.94 2.06-2.06.94zm10 10l.94 2.06.94-2.06 2.06-.94-2.06-.94-.94-2.06-.94 2.06-2.06.94z\"/><path d=\"M17.41 7.96l-1.37-1.37c-.4-.4-.92-.59-1.43-.59-.52 0-1.04.2-1.43.59L10.3 9.45l-7.72 7.72c-.78.78-.78 2.05 0 2.83L4 21.41c.39.39.9.59 1.41.59.51 0 1.02-.2 1.41-.59l7.78-7.78 2.81-2.81c.8-.78.8-2.07 0-2.86zM5.41 20L4 18.59l7.72-7.72 1.47 1.35L5.41 20z\"/>\n",
              "  </svg>\n",
              "      </button>\n",
              "      \n",
              "  <style>\n",
              "    .colab-df-container {\n",
              "      display:flex;\n",
              "      flex-wrap:wrap;\n",
              "      gap: 12px;\n",
              "    }\n",
              "\n",
              "    .colab-df-convert {\n",
              "      background-color: #E8F0FE;\n",
              "      border: none;\n",
              "      border-radius: 50%;\n",
              "      cursor: pointer;\n",
              "      display: none;\n",
              "      fill: #1967D2;\n",
              "      height: 32px;\n",
              "      padding: 0 0 0 0;\n",
              "      width: 32px;\n",
              "    }\n",
              "\n",
              "    .colab-df-convert:hover {\n",
              "      background-color: #E2EBFA;\n",
              "      box-shadow: 0px 1px 2px rgba(60, 64, 67, 0.3), 0px 1px 3px 1px rgba(60, 64, 67, 0.15);\n",
              "      fill: #174EA6;\n",
              "    }\n",
              "\n",
              "    [theme=dark] .colab-df-convert {\n",
              "      background-color: #3B4455;\n",
              "      fill: #D2E3FC;\n",
              "    }\n",
              "\n",
              "    [theme=dark] .colab-df-convert:hover {\n",
              "      background-color: #434B5C;\n",
              "      box-shadow: 0px 1px 3px 1px rgba(0, 0, 0, 0.15);\n",
              "      filter: drop-shadow(0px 1px 2px rgba(0, 0, 0, 0.3));\n",
              "      fill: #FFFFFF;\n",
              "    }\n",
              "  </style>\n",
              "\n",
              "      <script>\n",
              "        const buttonEl =\n",
              "          document.querySelector('#df-82c7781f-98e9-4f1b-a729-5c84b25e32a5 button.colab-df-convert');\n",
              "        buttonEl.style.display =\n",
              "          google.colab.kernel.accessAllowed ? 'block' : 'none';\n",
              "\n",
              "        async function convertToInteractive(key) {\n",
              "          const element = document.querySelector('#df-82c7781f-98e9-4f1b-a729-5c84b25e32a5');\n",
              "          const dataTable =\n",
              "            await google.colab.kernel.invokeFunction('convertToInteractive',\n",
              "                                                     [key], {});\n",
              "          if (!dataTable) return;\n",
              "\n",
              "          const docLinkHtml = 'Like what you see? Visit the ' +\n",
              "            '<a target=\"_blank\" href=https://colab.research.google.com/notebooks/data_table.ipynb>data table notebook</a>'\n",
              "            + ' to learn more about interactive tables.';\n",
              "          element.innerHTML = '';\n",
              "          dataTable['output_type'] = 'display_data';\n",
              "          await google.colab.output.renderOutput(dataTable, element);\n",
              "          const docLink = document.createElement('div');\n",
              "          docLink.innerHTML = docLinkHtml;\n",
              "          element.appendChild(docLink);\n",
              "        }\n",
              "      </script>\n",
              "    </div>\n",
              "  </div>\n",
              "  "
            ]
          },
          "metadata": {},
          "execution_count": 8
        }
      ]
    },
    {
      "cell_type": "code",
      "source": [
        "df = df[['name','serving_size','calories','carbohydrate','total_fat','protein']]\n",
        "print(df.info())\n",
        "df.head()"
      ],
      "metadata": {
        "colab": {
          "base_uri": "https://localhost:8080/",
          "height": 461
        },
        "id": "IxqkjILW2QQV",
        "outputId": "58d60dbc-25fe-4242-d897-d0f76783f079"
      },
      "execution_count": null,
      "outputs": [
        {
          "output_type": "stream",
          "name": "stdout",
          "text": [
            "<class 'pandas.core.frame.DataFrame'>\n",
            "RangeIndex: 8789 entries, 0 to 8788\n",
            "Data columns (total 6 columns):\n",
            " #   Column        Non-Null Count  Dtype \n",
            "---  ------        --------------  ----- \n",
            " 0   name          8789 non-null   object\n",
            " 1   serving_size  8789 non-null   object\n",
            " 2   calories      8789 non-null   int64 \n",
            " 3   carbohydrate  8789 non-null   object\n",
            " 4   total_fat     8789 non-null   object\n",
            " 5   protein       8789 non-null   object\n",
            "dtypes: int64(1), object(5)\n",
            "memory usage: 412.1+ KB\n",
            "None\n"
          ]
        },
        {
          "output_type": "execute_result",
          "data": {
            "text/plain": [
              "              name serving_size  calories carbohydrate total_fat  protein\n",
              "0       Cornstarch        100 g       381      91.27 g      0.1g   0.26 g\n",
              "1     Nuts, pecans        100 g       691      13.86 g       72g   9.17 g\n",
              "2    Eggplant, raw        100 g        25       5.88 g      0.2g   0.98 g\n",
              "3   Teff, uncooked        100 g       367      73.13 g      2.4g  13.30 g\n",
              "4  Sherbet, orange        100 g       144      30.40 g        2g   1.10 g"
            ],
            "text/html": [
              "\n",
              "  <div id=\"df-5be4452e-6afd-4d14-b718-1f79759795ff\">\n",
              "    <div class=\"colab-df-container\">\n",
              "      <div>\n",
              "<style scoped>\n",
              "    .dataframe tbody tr th:only-of-type {\n",
              "        vertical-align: middle;\n",
              "    }\n",
              "\n",
              "    .dataframe tbody tr th {\n",
              "        vertical-align: top;\n",
              "    }\n",
              "\n",
              "    .dataframe thead th {\n",
              "        text-align: right;\n",
              "    }\n",
              "</style>\n",
              "<table border=\"1\" class=\"dataframe\">\n",
              "  <thead>\n",
              "    <tr style=\"text-align: right;\">\n",
              "      <th></th>\n",
              "      <th>name</th>\n",
              "      <th>serving_size</th>\n",
              "      <th>calories</th>\n",
              "      <th>carbohydrate</th>\n",
              "      <th>total_fat</th>\n",
              "      <th>protein</th>\n",
              "    </tr>\n",
              "  </thead>\n",
              "  <tbody>\n",
              "    <tr>\n",
              "      <th>0</th>\n",
              "      <td>Cornstarch</td>\n",
              "      <td>100 g</td>\n",
              "      <td>381</td>\n",
              "      <td>91.27 g</td>\n",
              "      <td>0.1g</td>\n",
              "      <td>0.26 g</td>\n",
              "    </tr>\n",
              "    <tr>\n",
              "      <th>1</th>\n",
              "      <td>Nuts, pecans</td>\n",
              "      <td>100 g</td>\n",
              "      <td>691</td>\n",
              "      <td>13.86 g</td>\n",
              "      <td>72g</td>\n",
              "      <td>9.17 g</td>\n",
              "    </tr>\n",
              "    <tr>\n",
              "      <th>2</th>\n",
              "      <td>Eggplant, raw</td>\n",
              "      <td>100 g</td>\n",
              "      <td>25</td>\n",
              "      <td>5.88 g</td>\n",
              "      <td>0.2g</td>\n",
              "      <td>0.98 g</td>\n",
              "    </tr>\n",
              "    <tr>\n",
              "      <th>3</th>\n",
              "      <td>Teff, uncooked</td>\n",
              "      <td>100 g</td>\n",
              "      <td>367</td>\n",
              "      <td>73.13 g</td>\n",
              "      <td>2.4g</td>\n",
              "      <td>13.30 g</td>\n",
              "    </tr>\n",
              "    <tr>\n",
              "      <th>4</th>\n",
              "      <td>Sherbet, orange</td>\n",
              "      <td>100 g</td>\n",
              "      <td>144</td>\n",
              "      <td>30.40 g</td>\n",
              "      <td>2g</td>\n",
              "      <td>1.10 g</td>\n",
              "    </tr>\n",
              "  </tbody>\n",
              "</table>\n",
              "</div>\n",
              "      <button class=\"colab-df-convert\" onclick=\"convertToInteractive('df-5be4452e-6afd-4d14-b718-1f79759795ff')\"\n",
              "              title=\"Convert this dataframe to an interactive table.\"\n",
              "              style=\"display:none;\">\n",
              "        \n",
              "  <svg xmlns=\"http://www.w3.org/2000/svg\" height=\"24px\"viewBox=\"0 0 24 24\"\n",
              "       width=\"24px\">\n",
              "    <path d=\"M0 0h24v24H0V0z\" fill=\"none\"/>\n",
              "    <path d=\"M18.56 5.44l.94 2.06.94-2.06 2.06-.94-2.06-.94-.94-2.06-.94 2.06-2.06.94zm-11 1L8.5 8.5l.94-2.06 2.06-.94-2.06-.94L8.5 2.5l-.94 2.06-2.06.94zm10 10l.94 2.06.94-2.06 2.06-.94-2.06-.94-.94-2.06-.94 2.06-2.06.94z\"/><path d=\"M17.41 7.96l-1.37-1.37c-.4-.4-.92-.59-1.43-.59-.52 0-1.04.2-1.43.59L10.3 9.45l-7.72 7.72c-.78.78-.78 2.05 0 2.83L4 21.41c.39.39.9.59 1.41.59.51 0 1.02-.2 1.41-.59l7.78-7.78 2.81-2.81c.8-.78.8-2.07 0-2.86zM5.41 20L4 18.59l7.72-7.72 1.47 1.35L5.41 20z\"/>\n",
              "  </svg>\n",
              "      </button>\n",
              "      \n",
              "  <style>\n",
              "    .colab-df-container {\n",
              "      display:flex;\n",
              "      flex-wrap:wrap;\n",
              "      gap: 12px;\n",
              "    }\n",
              "\n",
              "    .colab-df-convert {\n",
              "      background-color: #E8F0FE;\n",
              "      border: none;\n",
              "      border-radius: 50%;\n",
              "      cursor: pointer;\n",
              "      display: none;\n",
              "      fill: #1967D2;\n",
              "      height: 32px;\n",
              "      padding: 0 0 0 0;\n",
              "      width: 32px;\n",
              "    }\n",
              "\n",
              "    .colab-df-convert:hover {\n",
              "      background-color: #E2EBFA;\n",
              "      box-shadow: 0px 1px 2px rgba(60, 64, 67, 0.3), 0px 1px 3px 1px rgba(60, 64, 67, 0.15);\n",
              "      fill: #174EA6;\n",
              "    }\n",
              "\n",
              "    [theme=dark] .colab-df-convert {\n",
              "      background-color: #3B4455;\n",
              "      fill: #D2E3FC;\n",
              "    }\n",
              "\n",
              "    [theme=dark] .colab-df-convert:hover {\n",
              "      background-color: #434B5C;\n",
              "      box-shadow: 0px 1px 3px 1px rgba(0, 0, 0, 0.15);\n",
              "      filter: drop-shadow(0px 1px 2px rgba(0, 0, 0, 0.3));\n",
              "      fill: #FFFFFF;\n",
              "    }\n",
              "  </style>\n",
              "\n",
              "      <script>\n",
              "        const buttonEl =\n",
              "          document.querySelector('#df-5be4452e-6afd-4d14-b718-1f79759795ff button.colab-df-convert');\n",
              "        buttonEl.style.display =\n",
              "          google.colab.kernel.accessAllowed ? 'block' : 'none';\n",
              "\n",
              "        async function convertToInteractive(key) {\n",
              "          const element = document.querySelector('#df-5be4452e-6afd-4d14-b718-1f79759795ff');\n",
              "          const dataTable =\n",
              "            await google.colab.kernel.invokeFunction('convertToInteractive',\n",
              "                                                     [key], {});\n",
              "          if (!dataTable) return;\n",
              "\n",
              "          const docLinkHtml = 'Like what you see? Visit the ' +\n",
              "            '<a target=\"_blank\" href=https://colab.research.google.com/notebooks/data_table.ipynb>data table notebook</a>'\n",
              "            + ' to learn more about interactive tables.';\n",
              "          element.innerHTML = '';\n",
              "          dataTable['output_type'] = 'display_data';\n",
              "          await google.colab.output.renderOutput(dataTable, element);\n",
              "          const docLink = document.createElement('div');\n",
              "          docLink.innerHTML = docLinkHtml;\n",
              "          element.appendChild(docLink);\n",
              "        }\n",
              "      </script>\n",
              "    </div>\n",
              "  </div>\n",
              "  "
            ]
          },
          "metadata": {},
          "execution_count": 9
        }
      ]
    },
    {
      "cell_type": "code",
      "source": [
        "df.drop(\"serving_size\", axis=1, inplace=True)"
      ],
      "metadata": {
        "id": "WVtpdGFV2dOP",
        "colab": {
          "base_uri": "https://localhost:8080/"
        },
        "outputId": "7a717763-585c-4ff0-ab22-96a2b00f8263"
      },
      "execution_count": null,
      "outputs": [
        {
          "output_type": "stream",
          "name": "stderr",
          "text": [
            "<ipython-input-10-cce32a67ee76>:1: SettingWithCopyWarning: \n",
            "A value is trying to be set on a copy of a slice from a DataFrame\n",
            "\n",
            "See the caveats in the documentation: https://pandas.pydata.org/pandas-docs/stable/user_guide/indexing.html#returning-a-view-versus-a-copy\n",
            "  df.drop(\"serving_size\", axis=1, inplace=True)\n"
          ]
        }
      ]
    },
    {
      "cell_type": "code",
      "source": [],
      "metadata": {
        "id": "dls4NkZe3kAB"
      },
      "execution_count": null,
      "outputs": []
    },
    {
      "cell_type": "code",
      "source": [
        "df['carbohydrate'] = np.array([df['carbohydrate'].tolist()[i].split(' ') for i in range(len(df))])[:,0].astype('float')\n",
        "df['protein'] = np.array([df['protein'].tolist()[i].split(' ') for i in range(len(df))])[:,0].astype('float')\n",
        "df['total_fat'] = np.array([df['total_fat'].tolist()[i].split('g') for i in range(len(df))])[:,0].astype('float')"
      ],
      "metadata": {
        "id": "aF273HlQ2nBD"
      },
      "execution_count": null,
      "outputs": []
    },
    {
      "cell_type": "code",
      "source": [
        "df.info()"
      ],
      "metadata": {
        "colab": {
          "base_uri": "https://localhost:8080/"
        },
        "id": "tiQz_32k3Kwe",
        "outputId": "d14af8e5-f821-4523-df6d-7e54ab404d79"
      },
      "execution_count": null,
      "outputs": [
        {
          "output_type": "stream",
          "name": "stdout",
          "text": [
            "<class 'pandas.core.frame.DataFrame'>\n",
            "RangeIndex: 8789 entries, 0 to 8788\n",
            "Data columns (total 5 columns):\n",
            " #   Column        Non-Null Count  Dtype  \n",
            "---  ------        --------------  -----  \n",
            " 0   name          8789 non-null   object \n",
            " 1   calories      8789 non-null   int64  \n",
            " 2   carbohydrate  8789 non-null   float64\n",
            " 3   total_fat     8789 non-null   float64\n",
            " 4   protein       8789 non-null   float64\n",
            "dtypes: float64(3), int64(1), object(1)\n",
            "memory usage: 343.4+ KB\n"
          ]
        }
      ]
    },
    {
      "cell_type": "markdown",
      "source": [
        "#Variegate"
      ],
      "metadata": {
        "id": "LYulWbsj9kIT"
      }
    },
    {
      "cell_type": "code",
      "source": [
        "week_days = ['Monday','Tuesday','Wednesday','Thursday','Friday','Saturday','Sunday']\n",
        "split_values_day = np.linspace(0,len(df),8).astype(int)\n",
        "split_values_day[-1] = split_values_day[-1]-1\n",
        "def random_dataset_day():\n",
        "    frac_data = df.sample(frac=1).reset_index().drop('index',axis=1)\n",
        "    day_data = []\n",
        "    for s in range(len(split_values_day)-1):\n",
        "        day_data.append(frac_data.loc[split_values_day[s]:split_values_day[s+1]])\n",
        "    return dict(zip(week_days,day_data))"
      ],
      "metadata": {
        "id": "rinewq4u4T_q"
      },
      "execution_count": null,
      "outputs": []
    },
    {
      "cell_type": "code",
      "source": [
        "random_dataset_day()[\"Tuesday\"]"
      ],
      "metadata": {
        "colab": {
          "base_uri": "https://localhost:8080/",
          "height": 423
        },
        "id": "RjWgIF_79zHs",
        "outputId": "aef9edc1-0f05-450b-b73b-07ae0cd6a7ff"
      },
      "execution_count": null,
      "outputs": [
        {
          "output_type": "execute_result",
          "data": {
            "text/plain": [
              "                                                   name  calories  \\\n",
              "1255  Lamb, raw, trimmed to 1/8\" fat, separable lean...       195   \n",
              "1256  Beef, grilled, cooked, choice, trimmed to 0\" f...       253   \n",
              "1257  Lamb, raw, trimmed to 1/8\" fat, separable lean...       123   \n",
              "1258                           Animal fat, bacon grease       897   \n",
              "1259  Fast foods, with condiments and vegetables, re...       251   \n",
              "...                                                 ...       ...   \n",
              "2507         Fish, dry heat, cooked, Atlantic, wolffish       123   \n",
              "2508  Beef, braised, cooked, select, trimmed to 0\" f...       206   \n",
              "2509  GLUTINO, Chocolate Vanilla Creme, Gluten Free ...       474   \n",
              "2510                  Orange juice, unsweetened, canned        47   \n",
              "2511  Beef, broiled, cooked, all grades, trimmed to ...       337   \n",
              "\n",
              "      carbohydrate  total_fat  protein  \n",
              "1255          0.00       13.0    18.85  \n",
              "1256          0.00       15.0    28.90  \n",
              "1257          0.00        3.8    20.83  \n",
              "1258          0.00      100.0     0.00  \n",
              "1259         21.20       13.0    12.80  \n",
              "...            ...        ...      ...  \n",
              "2507          0.00        3.1    22.44  \n",
              "2508          0.00        6.3    34.93  \n",
              "2509         76.03       18.0     2.19  \n",
              "2510         11.01        0.2     0.68  \n",
              "2511          0.00       27.0    22.42  \n",
              "\n",
              "[1257 rows x 5 columns]"
            ],
            "text/html": [
              "\n",
              "  <div id=\"df-01246839-979f-4740-8f16-3370933a8448\">\n",
              "    <div class=\"colab-df-container\">\n",
              "      <div>\n",
              "<style scoped>\n",
              "    .dataframe tbody tr th:only-of-type {\n",
              "        vertical-align: middle;\n",
              "    }\n",
              "\n",
              "    .dataframe tbody tr th {\n",
              "        vertical-align: top;\n",
              "    }\n",
              "\n",
              "    .dataframe thead th {\n",
              "        text-align: right;\n",
              "    }\n",
              "</style>\n",
              "<table border=\"1\" class=\"dataframe\">\n",
              "  <thead>\n",
              "    <tr style=\"text-align: right;\">\n",
              "      <th></th>\n",
              "      <th>name</th>\n",
              "      <th>calories</th>\n",
              "      <th>carbohydrate</th>\n",
              "      <th>total_fat</th>\n",
              "      <th>protein</th>\n",
              "    </tr>\n",
              "  </thead>\n",
              "  <tbody>\n",
              "    <tr>\n",
              "      <th>1255</th>\n",
              "      <td>Lamb, raw, trimmed to 1/8\" fat, separable lean...</td>\n",
              "      <td>195</td>\n",
              "      <td>0.00</td>\n",
              "      <td>13.0</td>\n",
              "      <td>18.85</td>\n",
              "    </tr>\n",
              "    <tr>\n",
              "      <th>1256</th>\n",
              "      <td>Beef, grilled, cooked, choice, trimmed to 0\" f...</td>\n",
              "      <td>253</td>\n",
              "      <td>0.00</td>\n",
              "      <td>15.0</td>\n",
              "      <td>28.90</td>\n",
              "    </tr>\n",
              "    <tr>\n",
              "      <th>1257</th>\n",
              "      <td>Lamb, raw, trimmed to 1/8\" fat, separable lean...</td>\n",
              "      <td>123</td>\n",
              "      <td>0.00</td>\n",
              "      <td>3.8</td>\n",
              "      <td>20.83</td>\n",
              "    </tr>\n",
              "    <tr>\n",
              "      <th>1258</th>\n",
              "      <td>Animal fat, bacon grease</td>\n",
              "      <td>897</td>\n",
              "      <td>0.00</td>\n",
              "      <td>100.0</td>\n",
              "      <td>0.00</td>\n",
              "    </tr>\n",
              "    <tr>\n",
              "      <th>1259</th>\n",
              "      <td>Fast foods, with condiments and vegetables, re...</td>\n",
              "      <td>251</td>\n",
              "      <td>21.20</td>\n",
              "      <td>13.0</td>\n",
              "      <td>12.80</td>\n",
              "    </tr>\n",
              "    <tr>\n",
              "      <th>...</th>\n",
              "      <td>...</td>\n",
              "      <td>...</td>\n",
              "      <td>...</td>\n",
              "      <td>...</td>\n",
              "      <td>...</td>\n",
              "    </tr>\n",
              "    <tr>\n",
              "      <th>2507</th>\n",
              "      <td>Fish, dry heat, cooked, Atlantic, wolffish</td>\n",
              "      <td>123</td>\n",
              "      <td>0.00</td>\n",
              "      <td>3.1</td>\n",
              "      <td>22.44</td>\n",
              "    </tr>\n",
              "    <tr>\n",
              "      <th>2508</th>\n",
              "      <td>Beef, braised, cooked, select, trimmed to 0\" f...</td>\n",
              "      <td>206</td>\n",
              "      <td>0.00</td>\n",
              "      <td>6.3</td>\n",
              "      <td>34.93</td>\n",
              "    </tr>\n",
              "    <tr>\n",
              "      <th>2509</th>\n",
              "      <td>GLUTINO, Chocolate Vanilla Creme, Gluten Free ...</td>\n",
              "      <td>474</td>\n",
              "      <td>76.03</td>\n",
              "      <td>18.0</td>\n",
              "      <td>2.19</td>\n",
              "    </tr>\n",
              "    <tr>\n",
              "      <th>2510</th>\n",
              "      <td>Orange juice, unsweetened, canned</td>\n",
              "      <td>47</td>\n",
              "      <td>11.01</td>\n",
              "      <td>0.2</td>\n",
              "      <td>0.68</td>\n",
              "    </tr>\n",
              "    <tr>\n",
              "      <th>2511</th>\n",
              "      <td>Beef, broiled, cooked, all grades, trimmed to ...</td>\n",
              "      <td>337</td>\n",
              "      <td>0.00</td>\n",
              "      <td>27.0</td>\n",
              "      <td>22.42</td>\n",
              "    </tr>\n",
              "  </tbody>\n",
              "</table>\n",
              "<p>1257 rows × 5 columns</p>\n",
              "</div>\n",
              "      <button class=\"colab-df-convert\" onclick=\"convertToInteractive('df-01246839-979f-4740-8f16-3370933a8448')\"\n",
              "              title=\"Convert this dataframe to an interactive table.\"\n",
              "              style=\"display:none;\">\n",
              "        \n",
              "  <svg xmlns=\"http://www.w3.org/2000/svg\" height=\"24px\"viewBox=\"0 0 24 24\"\n",
              "       width=\"24px\">\n",
              "    <path d=\"M0 0h24v24H0V0z\" fill=\"none\"/>\n",
              "    <path d=\"M18.56 5.44l.94 2.06.94-2.06 2.06-.94-2.06-.94-.94-2.06-.94 2.06-2.06.94zm-11 1L8.5 8.5l.94-2.06 2.06-.94-2.06-.94L8.5 2.5l-.94 2.06-2.06.94zm10 10l.94 2.06.94-2.06 2.06-.94-2.06-.94-.94-2.06-.94 2.06-2.06.94z\"/><path d=\"M17.41 7.96l-1.37-1.37c-.4-.4-.92-.59-1.43-.59-.52 0-1.04.2-1.43.59L10.3 9.45l-7.72 7.72c-.78.78-.78 2.05 0 2.83L4 21.41c.39.39.9.59 1.41.59.51 0 1.02-.2 1.41-.59l7.78-7.78 2.81-2.81c.8-.78.8-2.07 0-2.86zM5.41 20L4 18.59l7.72-7.72 1.47 1.35L5.41 20z\"/>\n",
              "  </svg>\n",
              "      </button>\n",
              "      \n",
              "  <style>\n",
              "    .colab-df-container {\n",
              "      display:flex;\n",
              "      flex-wrap:wrap;\n",
              "      gap: 12px;\n",
              "    }\n",
              "\n",
              "    .colab-df-convert {\n",
              "      background-color: #E8F0FE;\n",
              "      border: none;\n",
              "      border-radius: 50%;\n",
              "      cursor: pointer;\n",
              "      display: none;\n",
              "      fill: #1967D2;\n",
              "      height: 32px;\n",
              "      padding: 0 0 0 0;\n",
              "      width: 32px;\n",
              "    }\n",
              "\n",
              "    .colab-df-convert:hover {\n",
              "      background-color: #E2EBFA;\n",
              "      box-shadow: 0px 1px 2px rgba(60, 64, 67, 0.3), 0px 1px 3px 1px rgba(60, 64, 67, 0.15);\n",
              "      fill: #174EA6;\n",
              "    }\n",
              "\n",
              "    [theme=dark] .colab-df-convert {\n",
              "      background-color: #3B4455;\n",
              "      fill: #D2E3FC;\n",
              "    }\n",
              "\n",
              "    [theme=dark] .colab-df-convert:hover {\n",
              "      background-color: #434B5C;\n",
              "      box-shadow: 0px 1px 3px 1px rgba(0, 0, 0, 0.15);\n",
              "      filter: drop-shadow(0px 1px 2px rgba(0, 0, 0, 0.3));\n",
              "      fill: #FFFFFF;\n",
              "    }\n",
              "  </style>\n",
              "\n",
              "      <script>\n",
              "        const buttonEl =\n",
              "          document.querySelector('#df-01246839-979f-4740-8f16-3370933a8448 button.colab-df-convert');\n",
              "        buttonEl.style.display =\n",
              "          google.colab.kernel.accessAllowed ? 'block' : 'none';\n",
              "\n",
              "        async function convertToInteractive(key) {\n",
              "          const element = document.querySelector('#df-01246839-979f-4740-8f16-3370933a8448');\n",
              "          const dataTable =\n",
              "            await google.colab.kernel.invokeFunction('convertToInteractive',\n",
              "                                                     [key], {});\n",
              "          if (!dataTable) return;\n",
              "\n",
              "          const docLinkHtml = 'Like what you see? Visit the ' +\n",
              "            '<a target=\"_blank\" href=https://colab.research.google.com/notebooks/data_table.ipynb>data table notebook</a>'\n",
              "            + ' to learn more about interactive tables.';\n",
              "          element.innerHTML = '';\n",
              "          dataTable['output_type'] = 'display_data';\n",
              "          await google.colab.output.renderOutput(dataTable, element);\n",
              "          const docLink = document.createElement('div');\n",
              "          docLink.innerHTML = docLinkHtml;\n",
              "          element.appendChild(docLink);\n",
              "        }\n",
              "      </script>\n",
              "    </div>\n",
              "  </div>\n",
              "  "
            ]
          },
          "metadata": {},
          "execution_count": 14
        }
      ]
    },
    {
      "cell_type": "code",
      "source": [
        "meals = ['Snack 1','Snack 2','Breakfast','Lunch','Dinner']\n",
        "split_values_meal = np.linspace(0,split_values_day[1],len(meals)+1).astype(int)\n",
        "split_values_meal[-1] = split_values_meal[-1]-1\n",
        "def random_dataset_meal(data_day):\n",
        "    frac_data = data_day.sample(frac=1).reset_index().drop('index',axis=1)\n",
        "    meal_data = []\n",
        "    for s in range(len(split_values_meal)-1):\n",
        "        meal_data.append(frac_data.loc[split_values_meal[s]:split_values_meal[s+1]])\n",
        "    return dict(zip(meals,meal_data))"
      ],
      "metadata": {
        "id": "tjmGBeDI7djm"
      },
      "execution_count": null,
      "outputs": []
    },
    {
      "cell_type": "code",
      "source": [
        "random_dataset_meal(random_dataset_day()['Monday'])"
      ],
      "metadata": {
        "colab": {
          "base_uri": "https://localhost:8080/"
        },
        "id": "Lih_U9Iy7dWs",
        "outputId": "1f094bb9-f416-4ad9-b75a-3e270ce81657"
      },
      "execution_count": null,
      "outputs": [
        {
          "output_type": "execute_result",
          "data": {
            "text/plain": [
              "{'Snack 1':                                                   name  calories  \\\n",
              " 0    Beef, grilled, cooked, all grades, trimmed to ...       168   \n",
              " 1    Nuts, CHOSEN ROASTER, salt added, with peanuts...       632   \n",
              " 2    Beverages, bottled, cranberry-apricot juice drink        64   \n",
              " 3                                 Ostrich, raw, oyster       125   \n",
              " 4    SUBWAY, meatball marinara sub on white bread (...       219   \n",
              " ..                                                 ...       ...   \n",
              " 247  Beef, braised, cooked, select, trimmed to 0\" f...       287   \n",
              " 248                                  Burdock root, raw        72   \n",
              " 249       Rice, unenriched, cooked, short-grain, white       130   \n",
              " 250  Infant formula, powder, with iron, GOOD START ...       471   \n",
              " 251              Beverages, Cran Lemonade, OCEAN SPRAY        45   \n",
              " \n",
              "      carbohydrate  total_fat  protein  \n",
              " 0            0.00        4.8    29.08  \n",
              " 1           19.02       59.0    18.00  \n",
              " 2           16.20        0.0     0.20  \n",
              " 3            0.00        3.7    21.55  \n",
              " 4           26.01        8.5     9.77  \n",
              " ..            ...        ...      ...  \n",
              " 247          0.00       20.0    25.81  \n",
              " 248         17.34        0.2     1.53  \n",
              " 249         28.73        0.2     2.36  \n",
              " 250         62.23       19.0    12.20  \n",
              " 251         11.12        0.0     0.07  \n",
              " \n",
              " [252 rows x 5 columns],\n",
              " 'Snack 2':                                                   name  calories  \\\n",
              " 251              Beverages, Cran Lemonade, OCEAN SPRAY        45   \n",
              " 252                       Babyfood, junior, lamb, meat       112   \n",
              " 253                    Babyfood, tropical fruit medley        51   \n",
              " 254  Beef, raw, all grades, trimmed to 1/8\" fat, se...       138   \n",
              " 255           Gravy, slow roast, beef, FRANCO-AMERICAN        42   \n",
              " ..                                                 ...       ...   \n",
              " 498                     NABISCO, NABISCO RITZ Crackers       492   \n",
              " 499  Cake, butter (includes fresh and frozen), comm...       353   \n",
              " 500                            Spices, dried, marjoram       271   \n",
              " 501                   Beans, raw, mature seeds, french       343   \n",
              " 502                       Ground turkey, raw, fat free       112   \n",
              " \n",
              "      carbohydrate  total_fat  protein  \n",
              " 251         11.12        0.0     0.07  \n",
              " 252          0.00        5.2    15.20  \n",
              " 253         12.22        0.1     0.31  \n",
              " 254          0.00        5.2    22.93  \n",
              " 255          5.08        0.9     1.69  \n",
              " ..            ...        ...      ...  \n",
              " 498         63.51       23.0     7.23  \n",
              " 499         53.64       14.0     5.00  \n",
              " 500         60.56        7.0    12.66  \n",
              " 501         64.11        2.0    18.81  \n",
              " 502          0.00        2.0    23.57  \n",
              " \n",
              " [252 rows x 5 columns],\n",
              " 'Breakfast':                                                   name  calories  \\\n",
              " 502                       Ground turkey, raw, fat free       112   \n",
              " 503  Peaches, stewed, sulfured, dehydrated (low-moi...       133   \n",
              " 504  Shortening, soybean (hydrogenated), special pu...       884   \n",
              " 505                Cheese, imitation, american cheddar       239   \n",
              " 506                            Spices, dried, rosemary       331   \n",
              " ..                                                 ...       ...   \n",
              " 749  Turkey, roasted, with added solution, meat onl...       140   \n",
              " 750  CAMPBELL'S Red and White, condensed, Golden Mu...        65   \n",
              " 751       Game meat, pan-broiled, cooked, ground, deer       187   \n",
              " 752    Babyfood, strained, apricot with tapioca, fruit        60   \n",
              " 753  Cereals ready-to-eat, chocolate, KELLOGG'S FRO...       354   \n",
              " \n",
              "      carbohydrate  total_fat  protein  \n",
              " 502          0.00        2.0    23.57  \n",
              " 503         34.14        0.4     2.01  \n",
              " 504          0.00      100.0     0.00  \n",
              " 505         11.60       14.0    16.70  \n",
              " 506         64.06       15.0     4.88  \n",
              " ..            ...        ...      ...  \n",
              " 749          0.00        3.7    26.61  \n",
              " 750          8.06        2.8     1.61  \n",
              " 751          0.00        8.2    26.45  \n",
              " 752         16.30        0.0     0.30  \n",
              " 753         81.40        3.4     8.50  \n",
              " \n",
              " [252 rows x 5 columns],\n",
              " 'Lunch':                                                    name  calories  \\\n",
              " 753   Cereals ready-to-eat, chocolate, KELLOGG'S FRO...       354   \n",
              " 754   Cereals ready-to-eat, POST GREAT GRAINS Cranbe...       384   \n",
              " 755   Beef, grilled, cooked, all grades, trimmed to ...       206   \n",
              " 756               Egg rolls, heated, refrigerated, pork       222   \n",
              " 757                               Soup, mix, dry, onion       293   \n",
              " ...                                                 ...       ...   \n",
              " 1000  CAMPBELL'S Red and White, condensed, Beef with...        71   \n",
              " 1001  Beverage, not reconstituted, chocolate, instan...       353   \n",
              " 1002   Lamb, raw, tongue, variety meats and by-products       222   \n",
              " 1003               Soup, dry, beef flavor, ramen noodle       441   \n",
              " 1004  Lamb, broiled, cooked, trimmed to 1/8\" fat, se...       296   \n",
              " \n",
              "       carbohydrate  total_fat  protein  \n",
              " 753          81.40        3.4     8.50  \n",
              " 754          76.60        5.9     8.90  \n",
              " 755           0.00       10.0    28.11  \n",
              " 756          29.50        7.2     9.94  \n",
              " 757          65.07        0.3     7.48  \n",
              " ...            ...        ...      ...  \n",
              " 1000         11.90        1.2     3.97  \n",
              " 1001         66.20        1.4    19.90  \n",
              " 1002          0.00       17.0    15.70  \n",
              " 1003         60.34       18.0    10.06  \n",
              " 1004          0.00       21.0    24.41  \n",
              " \n",
              " [252 rows x 5 columns],\n",
              " 'Dinner':                                                    name  calories  \\\n",
              " 1004  Lamb, broiled, cooked, trimmed to 1/8\" fat, se...       296   \n",
              " 1005    CAMPBELL'S Red and White, condensed, Beef Broth        12   \n",
              " 1006  Mung beans, with salt, drained, boiled, cooked...        19   \n",
              " 1007     Ice creams, All Natural Light Vanilla, BREYERS       162   \n",
              " 1008  CAMPBELL'S CHUNKY Soups, Baked Potato with Che...        78   \n",
              " ...                                                 ...       ...   \n",
              " 1250  Fruit salad, solids and liquids, heavy syrup, ...        73   \n",
              " 1251  Prairie Turnips, boiled (Northern Plains Indians)       129   \n",
              " 1252  Veal, cooked, separable lean and fat, composit...       231   \n",
              " 1253                    Crackers, seasoned, wafers, rye       381   \n",
              " 1254  Cookies, lower fat, regular, commercially prep...       451   \n",
              " \n",
              "       carbohydrate  total_fat  protein  \n",
              " 1004          0.00       21.0    24.41  \n",
              " 1005          0.81        0.0     2.42  \n",
              " 1006          3.60        0.1     2.03  \n",
              " 1007         25.30        4.6     4.84  \n",
              " 1008          9.39        3.7     2.04  \n",
              " ...            ...        ...      ...  \n",
              " 1250         19.11        0.1     0.34  \n",
              " 1251         29.99        0.3     1.64  \n",
              " 1252          0.00       11.0    30.10  \n",
              " 1253         73.80        9.2     9.00  \n",
              " 1254         67.49       18.0     5.97  \n",
              " \n",
              " [251 rows x 5 columns]}"
            ]
          },
          "metadata": {},
          "execution_count": 16
        }
      ]
    },
    {
      "cell_type": "markdown",
      "source": [
        "#Number of grams a person should eat"
      ],
      "metadata": {
        "id": "xQ83t0Wg-LEY"
      }
    },
    {
      "cell_type": "code",
      "source": [
        "def build_nutritional_values(kg,calories):\n",
        "    protein_calories = kg*4\n",
        "    res_calories = calories-protein_calories\n",
        "    carb_calories = calories/2.\n",
        "    fat_calories = calories-carb_calories-protein_calories\n",
        "    res = {'Protein Calories':protein_calories,'Carbohydrates Calories':carb_calories,'Fat Calories':fat_calories}\n",
        "    return res"
      ],
      "metadata": {
        "id": "qQyQ3zDL93Y7"
      },
      "execution_count": null,
      "outputs": []
    },
    {
      "cell_type": "code",
      "source": [
        "x = build_nutritional_values(70,2000)"
      ],
      "metadata": {
        "id": "Gd34ignT-P12"
      },
      "execution_count": null,
      "outputs": []
    },
    {
      "cell_type": "code",
      "source": [
        "x"
      ],
      "metadata": {
        "colab": {
          "base_uri": "https://localhost:8080/"
        },
        "id": "ydp5hG2TVH3b",
        "outputId": "8f7c7ca4-eaaf-4fa7-d358-c9a79d1bd4b8"
      },
      "execution_count": null,
      "outputs": [
        {
          "output_type": "execute_result",
          "data": {
            "text/plain": [
              "{'Protein Calories': 280,\n",
              " 'Carbohydrates Calories': 1000.0,\n",
              " 'Fat Calories': 720.0}"
            ]
          },
          "metadata": {},
          "execution_count": 19
        }
      ]
    },
    {
      "cell_type": "code",
      "source": [
        "import matplotlib.pyplot as plt\n"
      ],
      "metadata": {
        "id": "LZlaBaNeVU0I"
      },
      "execution_count": null,
      "outputs": []
    },
    {
      "cell_type": "code",
      "source": [
        "nutrions = list(x.keys())\n",
        "calories = list(x.values())"
      ],
      "metadata": {
        "id": "m5GvZFXnVlR7"
      },
      "execution_count": null,
      "outputs": []
    },
    {
      "cell_type": "code",
      "source": [
        "# creating the bar plot\n",
        "fig = plt.figure(figsize = (10, 10))\n",
        "plt.bar(nutrions, calories, color ='maroon',width = 0.4)\n",
        "plt.xlabel(\"nutrions\")\n",
        "plt.ylabel(\"calories\")\n",
        "plt.show()"
      ],
      "metadata": {
        "colab": {
          "base_uri": "https://localhost:8080/",
          "height": 606
        },
        "id": "Lvv0frtkWiXs",
        "outputId": "244dd724-4608-4027-f13f-6c1693718073"
      },
      "execution_count": null,
      "outputs": [
        {
          "output_type": "display_data",
          "data": {
            "text/plain": [
              "<Figure size 720x720 with 1 Axes>"
            ],
            "image/png": "[encoded data removed]"
          },
          "metadata": {
            "needs_background": "light"
          }
        }
      ]
    },
    {
      "cell_type": "code",
      "source": [
        "def extract_gram(table):\n",
        "    protein_grams = table['Protein Calories']/4.\n",
        "    carbs_grams = table['Carbohydrates Calories']/4.\n",
        "    fat_grams = table['Fat Calories']/9.\n",
        "    res = {'Protein Grams':protein_grams, 'Carbohydrates Grams':carbs_grams,'Fat Grams':fat_grams}\n",
        "    return res"
      ],
      "metadata": {
        "id": "3qS0O6nx-drb"
      },
      "execution_count": null,
      "outputs": []
    },
    {
      "cell_type": "code",
      "source": [
        "extract_gram(build_nutritional_values(70,2000))"
      ],
      "metadata": {
        "colab": {
          "base_uri": "https://localhost:8080/"
        },
        "id": "yn-OjQca-mf7",
        "outputId": "a636c737-116f-4132-8768-9857cd3f739a"
      },
      "execution_count": null,
      "outputs": [
        {
          "output_type": "execute_result",
          "data": {
            "text/plain": [
              "{'Protein Grams': 70.0, 'Carbohydrates Grams': 250.0, 'Fat Grams': 80.0}"
            ]
          },
          "metadata": {},
          "execution_count": 24
        }
      ]
    },
    {
      "cell_type": "code",
      "source": [
        "x = extract_gram(build_nutritional_values(70,2000))"
      ],
      "metadata": {
        "id": "Hox_xTaDZmnd"
      },
      "execution_count": null,
      "outputs": []
    },
    {
      "cell_type": "code",
      "source": [
        "nutrions = list(x.keys())\n",
        "grams = list(x.values())"
      ],
      "metadata": {
        "id": "g9-qKoBFZv2j"
      },
      "execution_count": null,
      "outputs": []
    },
    {
      "cell_type": "code",
      "source": [
        "# creating the bar plot\n",
        "fig = plt.figure(figsize = (10, 10))\n",
        "plt.bar(nutrions, grams, color ='maroon',width = 0.4)\n",
        "plt.xlabel(\"nutrions\")\n",
        "plt.ylabel(\"grams needed\")\n",
        "plt.show()"
      ],
      "metadata": {
        "colab": {
          "base_uri": "https://localhost:8080/",
          "height": 606
        },
        "id": "eOX-WTk5Zmjx",
        "outputId": "d8eccb20-4cb1-46ca-cf08-159be7dc96fc"
      },
      "execution_count": null,
      "outputs": [
        {
          "output_type": "display_data",
          "data": {
            "text/plain": [
              "<Figure size 720x720 with 1 Axes>"
            ],
            "image/png": "[encoded data removed]"
          },
          "metadata": {
            "needs_background": "light"
          }
        }
      ]
    },
    {
      "cell_type": "markdown",
      "source": [
        "#Optimization"
      ],
      "metadata": {
        "id": "AAQzEteQ-7Nc"
      }
    },
    {
      "cell_type": "code",
      "source": [
        "days_data = random_dataset_day()"
      ],
      "metadata": {
        "id": "9J7rUYX-t7d6"
      },
      "execution_count": null,
      "outputs": []
    },
    {
      "cell_type": "code",
      "source": [
        "def model(day,kg,calories):\n",
        "    G = extract_gram(build_nutritional_values(kg,calories))\n",
        "    E = G['Carbohydrates Grams']\n",
        "    F = G['Fat Grams']\n",
        "    P = G['Protein Grams']\n",
        "    day_data = days_data[day]\n",
        "    day_data = day_data[day_data.calories!=0]\n",
        "    food = day_data.name.tolist()\n",
        "    c  = day_data.calories.tolist()\n",
        "    x  = pulp.LpVariable.dicts( \"x\", indices = food, lowBound=0, upBound=1.5, cat='Continuous', indexStart=[] )\n",
        "    e = day_data.carbohydrate.tolist()\n",
        "    f = day_data.total_fat.tolist()\n",
        "    p = day_data.protein.tolist()\n",
        "    prob  = pulp.LpProblem( \"Diet\", LpMinimize )\n",
        "    prob += pulp.lpSum( [x[food[i]]*c[i] for i in range(len(food))]  )\n",
        "    prob += pulp.lpSum( [x[food[i]]*e[i] for i in range(len(x)) ] )>=E\n",
        "    prob += pulp.lpSum( [x[food[i]]*f[i] for i in range(len(x)) ] )>=F\n",
        "    prob += pulp.lpSum( [x[food[i]]*p[i] for i in range(len(x)) ] )>=P\n",
        "    prob.solve()\n",
        "    variables = []\n",
        "    values = []\n",
        "    for v in prob.variables():\n",
        "        variable = v.name\n",
        "        value = v.varValue\n",
        "        variables.append(variable)\n",
        "        values.append(value)\n",
        "    values = np.array(values).round(2).astype(float)\n",
        "    sol = pd.DataFrame(np.array([food,values]).T, columns = ['Food','Quantity'])\n",
        "    sol['Quantity'] = sol.Quantity.astype(float)\n",
        "    sol = sol[sol['Quantity']!=0.0]\n",
        "    sol.Quantity = sol.Quantity/100\n",
        "    sol = sol.rename(columns={'Quantity':'Quantity (g)'})\n",
        "    return sol"
      ],
      "metadata": {
        "id": "qmVv9y_Qt7aY"
      },
      "execution_count": null,
      "outputs": []
    },
    {
      "cell_type": "code",
      "source": [
        "def model(prob, kg,calories,meal,data):\n",
        "    G = extract_gram(build_nutritional_values(kg,calories))\n",
        "    E = G['Carbohydrates Grams']\n",
        "    F = G['Fat Grams']\n",
        "    P = G['Protein Grams']\n",
        "    day_data = data\n",
        "    day_data = day_data[day_data.calories!=0]\n",
        "    food = day_data.name.tolist()\n",
        "    c  = day_data.calories.tolist()\n",
        "    x  = pulp.LpVariable.dicts( \"x\", indices = food, lowBound=0, upBound=1.5, cat='Continuous', indexStart=[] )\n",
        "    e = day_data.carbohydrate.tolist()\n",
        "    f = day_data.total_fat.tolist()\n",
        "    p = day_data.protein.tolist()\n",
        "#    prob  = pulp.LpProblem( \"Diet\", LpMinimize )\n",
        "    div_meal = meal_split[meal]\n",
        "    prob += pulp.lpSum( [x[food[i]]*c[i] for i in range(len(food))]  )\n",
        "    prob += pulp.lpSum( [x[food[i]]*e[i] for i in range(len(x)) ] )>=E*div_meal\n",
        "    prob += pulp.lpSum( [x[food[i]]*f[i] for i in range(len(x)) ] )>=F*div_meal\n",
        "    prob += pulp.lpSum( [x[food[i]]*p[i] for i in range(len(x)) ] )>=P*div_meal\n",
        "    prob.solve()\n",
        "    variables = []\n",
        "    values = []\n",
        "    for v in prob.variables():\n",
        "        variable = v.name\n",
        "        value = v.varValue\n",
        "        variables.append(variable)\n",
        "        values.append(value)\n",
        "    values = np.array(values).round(2).astype(float)\n",
        "    sol = pd.DataFrame(np.array([food,values]).T, columns = ['Food','Quantity'])\n",
        "    sol['Quantity'] = sol.Quantity.astype(float)\n",
        "    sol = sol[sol['Quantity']!=0.0]\n",
        "    sol.Quantity = sol.Quantity*100\n",
        "    sol = sol.rename(columns={'Quantity':'Quantity (g)'})\n",
        "    return sol\n"
      ],
      "metadata": {
        "id": "0ZU8rSBst7Xn"
      },
      "execution_count": null,
      "outputs": []
    },
    {
      "cell_type": "code",
      "source": [
        "def total_model(kg,calories):\n",
        "    result = []\n",
        "    for day in week_days:\n",
        "        prob  = pulp.LpProblem( \"Diet\", LpMinimize )\n",
        "        print('Building a model for day %s \\n'%(day))\n",
        "        result.append(model(prob,day,kg,calories))\n",
        "    return dict(zip(week_days,result))"
      ],
      "metadata": {
        "id": "4jyVJUBct7Vc"
      },
      "execution_count": null,
      "outputs": []
    },
    {
      "cell_type": "code",
      "source": [
        "meal_split = {'Snack 1': 0.10, 'Snack 2':0.10,'Breakfast': 0.15,'Lunch':0.35, 'Dinner':0.30}\n",
        "labels = []\n",
        "sizes = []\n",
        "\n",
        "for x, y in meal_split.items():\n",
        "    labels.append(x)\n",
        "    sizes.append(y)\n",
        "\n",
        "# Plot\n",
        "plt.figure(figsize=(10,10))\n",
        "plt.pie(sizes, labels=labels,explode = [0.,0.,0.08,0.1,0.1],textprops={'fontsize': 14})\n",
        "\n",
        "plt.axis('equal')\n",
        "plt.show()"
      ],
      "metadata": {
        "colab": {
          "base_uri": "https://localhost:8080/",
          "height": 584
        },
        "id": "-Ycxegyit7TB",
        "outputId": "9769bc7a-60a2-4605-97a3-64e5c43f5720"
      },
      "execution_count": null,
      "outputs": [
        {
          "output_type": "display_data",
          "data": {
            "text/plain": [
              "<Figure size 720x720 with 1 Axes>"
            ],
            "image/png": "[encoded data removed]"
          },
          "metadata": {}
        }
      ]
    },
    {
      "cell_type": "code",
      "source": [
        "def better_model(kg,calories,day,meal_time):\n",
        "    days_data = random_dataset_day()\n",
        "    res_model = []\n",
        "    for day in week_days:\n",
        "        day_data = days_data[day]\n",
        "        meals_data = random_dataset_meal(day_data)\n",
        "        meal_model = []\n",
        "        for meal in meals:\n",
        "            meal_data = meals_data[meal]\n",
        "            prob  = pulp.LpProblem( \"Diet\", LpMinimize )\n",
        "            sol_model = model(prob,kg,calories,meal,meal_data)\n",
        "            meal_model.append(sol_model)\n",
        "        res_model.append(meal_model)\n",
        "    unpacked = []\n",
        "    for i in range(len(res_model)):\n",
        "        unpacked.append(dict(zip(meals,res_model[i])))\n",
        "    unpacked_tot = dict(zip(week_days,unpacked))\n",
        "    return unpacked_tot[day][meal_time]"
      ],
      "metadata": {
        "id": "_0MsnDClt7Q1"
      },
      "execution_count": null,
      "outputs": []
    },
    {
      "cell_type": "code",
      "source": [
        "diet = better_model(70,1500,\"Monday\",\"Snack 1\")\n"
      ],
      "metadata": {
        "id": "L8nVGeXQuuBA"
      },
      "execution_count": null,
      "outputs": []
    },
    {
      "cell_type": "code",
      "source": [
        "diet"
      ],
      "metadata": {
        "colab": {
          "base_uri": "https://localhost:8080/",
          "height": 143
        },
        "id": "F8wd1ewNut9m",
        "outputId": "fe477fd2-cc2f-4e81-dc9e-9078401d98ed"
      },
      "execution_count": null,
      "outputs": [
        {
          "output_type": "execute_result",
          "data": {
            "text/plain": [
              "                                                 Food  Quantity (g)\n",
              "76       Babyfood, strained, vegetable and brown rice          18.0\n",
              "166  Lentils, with salt, stir-fried, cooked, sprouted           3.0\n",
              "230              Fast foods, with chicken, quesadilla          40.0"
            ],
            "text/html": [
              "\n",
              "  <div id=\"df-ba96a289-96c0-41ec-8dfa-e28b77545566\">\n",
              "    <div class=\"colab-df-container\">\n",
              "      <div>\n",
              "<style scoped>\n",
              "    .dataframe tbody tr th:only-of-type {\n",
              "        vertical-align: middle;\n",
              "    }\n",
              "\n",
              "    .dataframe tbody tr th {\n",
              "        vertical-align: top;\n",
              "    }\n",
              "\n",
              "    .dataframe thead th {\n",
              "        text-align: right;\n",
              "    }\n",
              "</style>\n",
              "<table border=\"1\" class=\"dataframe\">\n",
              "  <thead>\n",
              "    <tr style=\"text-align: right;\">\n",
              "      <th></th>\n",
              "      <th>Food</th>\n",
              "      <th>Quantity (g)</th>\n",
              "    </tr>\n",
              "  </thead>\n",
              "  <tbody>\n",
              "    <tr>\n",
              "      <th>76</th>\n",
              "      <td>Babyfood, strained, vegetable and brown rice</td>\n",
              "      <td>18.0</td>\n",
              "    </tr>\n",
              "    <tr>\n",
              "      <th>166</th>\n",
              "      <td>Lentils, with salt, stir-fried, cooked, sprouted</td>\n",
              "      <td>3.0</td>\n",
              "    </tr>\n",
              "    <tr>\n",
              "      <th>230</th>\n",
              "      <td>Fast foods, with chicken, quesadilla</td>\n",
              "      <td>40.0</td>\n",
              "    </tr>\n",
              "  </tbody>\n",
              "</table>\n",
              "</div>\n",
              "      <button class=\"colab-df-convert\" onclick=\"convertToInteractive('df-ba96a289-96c0-41ec-8dfa-e28b77545566')\"\n",
              "              title=\"Convert this dataframe to an interactive table.\"\n",
              "              style=\"display:none;\">\n",
              "        \n",
              "  <svg xmlns=\"http://www.w3.org/2000/svg\" height=\"24px\"viewBox=\"0 0 24 24\"\n",
              "       width=\"24px\">\n",
              "    <path d=\"M0 0h24v24H0V0z\" fill=\"none\"/>\n",
              "    <path d=\"M18.56 5.44l.94 2.06.94-2.06 2.06-.94-2.06-.94-.94-2.06-.94 2.06-2.06.94zm-11 1L8.5 8.5l.94-2.06 2.06-.94-2.06-.94L8.5 2.5l-.94 2.06-2.06.94zm10 10l.94 2.06.94-2.06 2.06-.94-2.06-.94-.94-2.06-.94 2.06-2.06.94z\"/><path d=\"M17.41 7.96l-1.37-1.37c-.4-.4-.92-.59-1.43-.59-.52 0-1.04.2-1.43.59L10.3 9.45l-7.72 7.72c-.78.78-.78 2.05 0 2.83L4 21.41c.39.39.9.59 1.41.59.51 0 1.02-.2 1.41-.59l7.78-7.78 2.81-2.81c.8-.78.8-2.07 0-2.86zM5.41 20L4 18.59l7.72-7.72 1.47 1.35L5.41 20z\"/>\n",
              "  </svg>\n",
              "      </button>\n",
              "      \n",
              "  <style>\n",
              "    .colab-df-container {\n",
              "      display:flex;\n",
              "      flex-wrap:wrap;\n",
              "      gap: 12px;\n",
              "    }\n",
              "\n",
              "    .colab-df-convert {\n",
              "      background-color: #E8F0FE;\n",
              "      border: none;\n",
              "      border-radius: 50%;\n",
              "      cursor: pointer;\n",
              "      display: none;\n",
              "      fill: #1967D2;\n",
              "      height: 32px;\n",
              "      padding: 0 0 0 0;\n",
              "      width: 32px;\n",
              "    }\n",
              "\n",
              "    .colab-df-convert:hover {\n",
              "      background-color: #E2EBFA;\n",
              "      box-shadow: 0px 1px 2px rgba(60, 64, 67, 0.3), 0px 1px 3px 1px rgba(60, 64, 67, 0.15);\n",
              "      fill: #174EA6;\n",
              "    }\n",
              "\n",
              "    [theme=dark] .colab-df-convert {\n",
              "      background-color: #3B4455;\n",
              "      fill: #D2E3FC;\n",
              "    }\n",
              "\n",
              "    [theme=dark] .colab-df-convert:hover {\n",
              "      background-color: #434B5C;\n",
              "      box-shadow: 0px 1px 3px 1px rgba(0, 0, 0, 0.15);\n",
              "      filter: drop-shadow(0px 1px 2px rgba(0, 0, 0, 0.3));\n",
              "      fill: #FFFFFF;\n",
              "    }\n",
              "  </style>\n",
              "\n",
              "      <script>\n",
              "        const buttonEl =\n",
              "          document.querySelector('#df-ba96a289-96c0-41ec-8dfa-e28b77545566 button.colab-df-convert');\n",
              "        buttonEl.style.display =\n",
              "          google.colab.kernel.accessAllowed ? 'block' : 'none';\n",
              "\n",
              "        async function convertToInteractive(key) {\n",
              "          const element = document.querySelector('#df-ba96a289-96c0-41ec-8dfa-e28b77545566');\n",
              "          const dataTable =\n",
              "            await google.colab.kernel.invokeFunction('convertToInteractive',\n",
              "                                                     [key], {});\n",
              "          if (!dataTable) return;\n",
              "\n",
              "          const docLinkHtml = 'Like what you see? Visit the ' +\n",
              "            '<a target=\"_blank\" href=https://colab.research.google.com/notebooks/data_table.ipynb>data table notebook</a>'\n",
              "            + ' to learn more about interactive tables.';\n",
              "          element.innerHTML = '';\n",
              "          dataTable['output_type'] = 'display_data';\n",
              "          await google.colab.output.renderOutput(dataTable, element);\n",
              "          const docLink = document.createElement('div');\n",
              "          docLink.innerHTML = docLinkHtml;\n",
              "          element.appendChild(docLink);\n",
              "        }\n",
              "      </script>\n",
              "    </div>\n",
              "  </div>\n",
              "  "
            ]
          },
          "metadata": {},
          "execution_count": 35
        }
      ]
    },
    {
      "cell_type": "code",
      "source": [
        "import gradio as gr"
      ],
      "metadata": {
        "id": "VBz_7_hGA4Cd"
      },
      "execution_count": null,
      "outputs": []
    },
    {
      "cell_type": "code",
      "source": [
        "weight_input = gr.inputs.Number(label=\"Weight (in kg)\")\n",
        "calories_input = gr.inputs.Number(label=\"Intake of calories\")\n",
        "day_input = gr.inputs.Dropdown(choices=[\"Monday\", \"Tuesday\", \"Wednesday\", \"Thursday\", \"Friday\", \"Saturday\", \"Sunday\"], label=\"Choose a day\")\n",
        "meal_input = gr.inputs.Dropdown(choices=[\"Breakfast\", \"Lunch\", \"Dinner\",\"Snack 1\", \"Snack 2\"], label=\"Choose a meal\")\n"
      ],
      "metadata": {
        "colab": {
          "base_uri": "https://localhost:8080/"
        },
        "id": "PwzBrqBG1z4B",
        "outputId": "68b2cab7-3466-4504-e5ef-9555ab52b630"
      },
      "execution_count": null,
      "outputs": [
        {
          "output_type": "stream",
          "name": "stderr",
          "text": [
            "/usr/local/lib/python3.9/dist-packages/gradio/inputs.py:59: UserWarning: Usage of gradio.inputs is deprecated, and will not be supported in the future, please import your component from gradio.components\n",
            "  warnings.warn(\n",
            "/usr/local/lib/python3.9/dist-packages/gradio/deprecation.py:40: UserWarning: `optional` parameter is deprecated, and it has no effect\n",
            "  warnings.warn(value)\n",
            "/usr/local/lib/python3.9/dist-packages/gradio/inputs.py:217: UserWarning: Usage of gradio.inputs is deprecated, and will not be supported in the future, please import your component from gradio.components\n",
            "  warnings.warn(\n"
          ]
        }
      ]
    },
    {
      "cell_type": "code",
      "source": [
        "output_text = gr.outputs.Textbox(label=\"Meal Plan\")"
      ],
      "metadata": {
        "colab": {
          "base_uri": "https://localhost:8080/"
        },
        "id": "HJsLGm046UzU",
        "outputId": "a3e73c19-9eed-48ed-fd45-034bc91326a0"
      },
      "execution_count": null,
      "outputs": [
        {
          "output_type": "stream",
          "name": "stderr",
          "text": [
            "/usr/local/lib/python3.9/dist-packages/gradio/outputs.py:22: UserWarning: Usage of gradio.outputs is deprecated, and will not be supported in the future, please import your components from gradio.components\n",
            "  warnings.warn(\n"
          ]
        }
      ]
    },
    {
      "cell_type": "code",
      "source": [
        "app = gr.Interface(fn = better_model, inputs=[weight_input,calories_input,day_input,meal_input], outputs=output_text,title=\"Meal Plan Generator\")"
      ],
      "metadata": {
        "id": "wb24VOp4yyCt"
      },
      "execution_count": null,
      "outputs": []
    },
    {
      "cell_type": "code",
      "source": [
        "app.launch(share=True)"
      ],
      "metadata": {
        "colab": {
          "base_uri": "https://localhost:8080/",
          "height": 594
        },
        "id": "_AQGAvUozmkW",
        "outputId": "526dda1c-4789-44f3-e834-e781576944bb"
      },
      "execution_count": null,
      "outputs": [
        {
          "output_type": "stream",
          "name": "stdout",
          "text": [
            "Colab notebook detected. To show errors in colab notebook, set debug=True in launch()\n",
            "Running on public URL: https://5575c560688a206b71.gradio.live\n",
            "\n",
            "This share link expires in 72 hours. For free permanent hosting and GPU upgrades (NEW!), check out Spaces: https://huggingface.co/spaces\n"
          ]
        },
        {
          "output_type": "display_data",
          "data": {
            "text/plain": [
              "<IPython.core.display.HTML object>"
            ],
            "text/html": [
              "<div><iframe src=\"https://5575c560688a206b71.gradio.live\" width=\"100%\" height=\"500\" allow=\"autoplay; camera; microphone; clipboard-read; clipboard-write;\" frameborder=\"0\" allowfullscreen></iframe></div>"
            ]
          },
          "metadata": {}
        },
        {
          "output_type": "execute_result",
          "data": {
            "text/plain": []
          },
          "metadata": {},
          "execution_count": 40
        }
      ]
    },
    {
      "cell_type": "code",
      "source": [],
      "metadata": {
        "id": "_ffqGIKWzqy6"
      },
      "execution_count": null,
      "outputs": []
    }
  ]
}